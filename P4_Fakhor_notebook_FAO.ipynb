{
 "cells": [
  {
   "cell_type": "markdown",
   "id": "718a72b5",
   "metadata": {},
   "source": [
    "# L'état de la malnutrition dans le monde pour 2017\n",
    "##  1 l'instalation des librairies nécessaires :\n",
    "**Numpy :** *destinée à manipuler des matrices ou tableaux multidimensionnels ainsi que des fonctions mathématiques opérant sur ces tableaux.*"
   ]
  },
  {
   "cell_type": "code",
   "execution_count": 310,
   "id": "0be13d80",
   "metadata": {},
   "outputs": [],
   "source": [
    "import numpy as np "
   ]
  },
  {
   "cell_type": "markdown",
   "id": "ce82e5a6",
   "metadata": {},
   "source": [
    "**Pandas :** *permettant la manipulation et l'analyse des données.*"
   ]
  },
  {
   "cell_type": "code",
   "execution_count": 311,
   "id": "c35a2e07",
   "metadata": {},
   "outputs": [],
   "source": [
    "import pandas as pd"
   ]
  },
  {
   "cell_type": "markdown",
   "id": "2d32108b",
   "metadata": {},
   "source": [
    "**Matplotlib :** *destinée à tracer et visualiser des données sous formes de graphiques.*"
   ]
  },
  {
   "cell_type": "code",
   "execution_count": 312,
   "id": "07e307f6",
   "metadata": {},
   "outputs": [],
   "source": [
    "import matplotlib as plt"
   ]
  },
  {
   "cell_type": "markdown",
   "id": "4435ae82",
   "metadata": {},
   "source": [
    "# 2 Importation des fichier csv :\n",
    "**2.1.\tUn fichier de disponibilité alimentaire pour l’année 2017 qui contient 17 variables :**  \n",
    "-   Le pays.\n",
    "-   Le produit.\n",
    "-   4 variables de disponibilité alimentaire. Ces 4 variables sont exprimées dans des unités bien spécifiques, qui sont précisées directement dans le nom de la variable. À noter cependant que la notation         kcal est un abus de langage, elle correspond à une calorie réelle.\n",
    "-   10 variables qui précisent les utilisations/moyens d’acquisition de la disponibilité alimentaire. Elles sont toutes exprimées en milliers de tonnes.\n",
    "-   Enfin, une variable type qui précise si le produit est d’origine animale ou végétale."
   ]
  },
  {
   "cell_type": "code",
   "execution_count": 313,
   "id": "90edeccf",
   "metadata": {},
   "outputs": [],
   "source": [
    "dispo_alim = pd.read_csv('/Users/fabienmirosa/Desktop/Data Analyst Safae/P4/DAN-P4-FAO/dispo_alimentaire.csv', sep=\",\")"
   ]
  },
  {
   "cell_type": "markdown",
   "id": "820d8458",
   "metadata": {},
   "source": [
    "**2.2. Un fichier d’insécurité alimentaire, qui inclut :**\n",
    "-\tLe pays.\n",
    "-\tIntervalle d’années.\n",
    "-\tLe nombre de personnes en sous-alimentation en millions d’habitants (ex. : pour l’intervalle 2016-2018, le nombre de personnes correspond à la moyenne sur ces 3 années, on peut le résumer en 2017)."
   ]
  },
  {
   "cell_type": "code",
   "execution_count": 314,
   "id": "340574f9",
   "metadata": {},
   "outputs": [
    {
     "data": {
      "text/html": [
       "<div>\n",
       "<style scoped>\n",
       "    .dataframe tbody tr th:only-of-type {\n",
       "        vertical-align: middle;\n",
       "    }\n",
       "\n",
       "    .dataframe tbody tr th {\n",
       "        vertical-align: top;\n",
       "    }\n",
       "\n",
       "    .dataframe thead th {\n",
       "        text-align: right;\n",
       "    }\n",
       "</style>\n",
       "<table border=\"1\" class=\"dataframe\">\n",
       "  <thead>\n",
       "    <tr style=\"text-align: right;\">\n",
       "      <th></th>\n",
       "      <th>Zone</th>\n",
       "      <th>Année</th>\n",
       "      <th>Valeur</th>\n",
       "    </tr>\n",
       "  </thead>\n",
       "  <tbody>\n",
       "    <tr>\n",
       "      <th>0</th>\n",
       "      <td>Afghanistan</td>\n",
       "      <td>2012-2014</td>\n",
       "      <td>8.6</td>\n",
       "    </tr>\n",
       "    <tr>\n",
       "      <th>1</th>\n",
       "      <td>Afghanistan</td>\n",
       "      <td>2013-2015</td>\n",
       "      <td>8.8</td>\n",
       "    </tr>\n",
       "    <tr>\n",
       "      <th>2</th>\n",
       "      <td>Afghanistan</td>\n",
       "      <td>2014-2016</td>\n",
       "      <td>8.9</td>\n",
       "    </tr>\n",
       "    <tr>\n",
       "      <th>3</th>\n",
       "      <td>Afghanistan</td>\n",
       "      <td>2015-2017</td>\n",
       "      <td>9.7</td>\n",
       "    </tr>\n",
       "    <tr>\n",
       "      <th>4</th>\n",
       "      <td>Afghanistan</td>\n",
       "      <td>2016-2018</td>\n",
       "      <td>10.5</td>\n",
       "    </tr>\n",
       "    <tr>\n",
       "      <th>...</th>\n",
       "      <td>...</td>\n",
       "      <td>...</td>\n",
       "      <td>...</td>\n",
       "    </tr>\n",
       "    <tr>\n",
       "      <th>1213</th>\n",
       "      <td>Zimbabwe</td>\n",
       "      <td>2013-2015</td>\n",
       "      <td>NaN</td>\n",
       "    </tr>\n",
       "    <tr>\n",
       "      <th>1214</th>\n",
       "      <td>Zimbabwe</td>\n",
       "      <td>2014-2016</td>\n",
       "      <td>NaN</td>\n",
       "    </tr>\n",
       "    <tr>\n",
       "      <th>1215</th>\n",
       "      <td>Zimbabwe</td>\n",
       "      <td>2015-2017</td>\n",
       "      <td>NaN</td>\n",
       "    </tr>\n",
       "    <tr>\n",
       "      <th>1216</th>\n",
       "      <td>Zimbabwe</td>\n",
       "      <td>2016-2018</td>\n",
       "      <td>NaN</td>\n",
       "    </tr>\n",
       "    <tr>\n",
       "      <th>1217</th>\n",
       "      <td>Zimbabwe</td>\n",
       "      <td>2017-2019</td>\n",
       "      <td>NaN</td>\n",
       "    </tr>\n",
       "  </tbody>\n",
       "</table>\n",
       "<p>1218 rows × 3 columns</p>\n",
       "</div>"
      ],
      "text/plain": [
       "             Zone      Année Valeur\n",
       "0     Afghanistan  2012-2014    8.6\n",
       "1     Afghanistan  2013-2015    8.8\n",
       "2     Afghanistan  2014-2016    8.9\n",
       "3     Afghanistan  2015-2017    9.7\n",
       "4     Afghanistan  2016-2018   10.5\n",
       "...           ...        ...    ...\n",
       "1213     Zimbabwe  2013-2015    NaN\n",
       "1214     Zimbabwe  2014-2016    NaN\n",
       "1215     Zimbabwe  2015-2017    NaN\n",
       "1216     Zimbabwe  2016-2018    NaN\n",
       "1217     Zimbabwe  2017-2019    NaN\n",
       "\n",
       "[1218 rows x 3 columns]"
      ]
     },
     "execution_count": 314,
     "metadata": {},
     "output_type": "execute_result"
    }
   ],
   "source": [
    "sous_nut = pd.read_csv(\"/Users/fabienmirosa/Desktop/Data Analyst Safae/P4/DAN-P4-FAO/sous_nutrition.csv\", sep=\",\")\n",
    "sous_nut"
   ]
  },
  {
   "cell_type": "markdown",
   "id": "164365c3",
   "metadata": {},
   "source": [
    "**2.3.\tUn fichier de population qui inclut :**\n",
    "-\tLe pays.\n",
    "-\tL’année.\n",
    "-\tLa population du pays, exprimée en milliers d’habitants."
   ]
  },
  {
   "cell_type": "code",
   "execution_count": 315,
   "id": "78d931b0",
   "metadata": {},
   "outputs": [],
   "source": [
    "population = pd.read_csv(\"/Users/fabienmirosa/Desktop/Data Analyst Safae/P4/DAN-P4-FAO/population.csv\", sep=\",\")"
   ]
  },
  {
   "cell_type": "markdown",
   "id": "b0adbfbb",
   "metadata": {},
   "source": [
    "**2.4.\tUn fichier d’aide alimentaire qui contient :**\n",
    "-\tLe pays bénéficiaire.\n",
    "-\tL’année.\n",
    "-\tLe produit.\n",
    "-\tLa quantité qui a été donnée comme aide alimentaire, en tonnes."
   ]
  },
  {
   "cell_type": "code",
   "execution_count": 316,
   "id": "5d6430cc",
   "metadata": {},
   "outputs": [],
   "source": [
    "aide_alim = pd.read_csv(\"/Users/fabienmirosa/Desktop/Data Analyst Safae/P4/DAN-P4-FAO/aide_alimentaire.csv\", sep=\",\")"
   ]
  },
  {
   "cell_type": "markdown",
   "id": "e16808f8",
   "metadata": {},
   "source": [
    "## 3 Vérification des données :\n",
    "**Le nombre de colonnes dans chaque fichier :**"
   ]
  },
  {
   "cell_type": "code",
   "execution_count": 317,
   "id": "4cc74ba7",
   "metadata": {},
   "outputs": [
    {
     "name": "stdout",
     "output_type": "stream",
     "text": [
      "le nombre de colonnes du tableau de disponibilité alimentaires : 18\n"
     ]
    }
   ],
   "source": [
    "print('le nombre de colonnes du tableau de disponibilité alimentaires :', len(dispo_alim.columns))"
   ]
  },
  {
   "cell_type": "code",
   "execution_count": 318,
   "id": "8b7084f6",
   "metadata": {},
   "outputs": [
    {
     "name": "stdout",
     "output_type": "stream",
     "text": [
      "le nombre de colonnes du tableau de sous-nutrition : 3\n"
     ]
    }
   ],
   "source": [
    "print('le nombre de colonnes du tableau de sous-nutrition :', len(sous_nut.columns))"
   ]
  },
  {
   "cell_type": "code",
   "execution_count": 319,
   "id": "d79c413d",
   "metadata": {},
   "outputs": [
    {
     "name": "stdout",
     "output_type": "stream",
     "text": [
      "le nombre de colonnes du tableau de population : 3\n"
     ]
    }
   ],
   "source": [
    "print('le nombre de colonnes du tableau de population :', len(population.columns))"
   ]
  },
  {
   "cell_type": "code",
   "execution_count": 320,
   "id": "c59c5781",
   "metadata": {},
   "outputs": [
    {
     "name": "stdout",
     "output_type": "stream",
     "text": [
      "le nombre de colonnes du tableau d'aide alimentaire : 4\n"
     ]
    }
   ],
   "source": [
    "print('le nombre de colonnes du tableau d\\'aide alimentaire :', len(aide_alim.columns))"
   ]
  },
  {
   "cell_type": "markdown",
   "id": "b6ceceae",
   "metadata": {},
   "source": [
    "**Le nombre de lignes pour chaque table:**"
   ]
  },
  {
   "cell_type": "code",
   "execution_count": 321,
   "id": "f2dd84ba",
   "metadata": {},
   "outputs": [
    {
     "name": "stdout",
     "output_type": "stream",
     "text": [
      "le nombre de lignes du tableau de disponibilité alimentaires : 15605\n"
     ]
    }
   ],
   "source": [
    "print('le nombre de lignes du tableau de disponibilité alimentaires :', len(dispo_alim))"
   ]
  },
  {
   "cell_type": "code",
   "execution_count": 322,
   "id": "bb19caca",
   "metadata": {},
   "outputs": [
    {
     "name": "stdout",
     "output_type": "stream",
     "text": [
      "le nombre de lignes du tableau de sous-nutrition : 1218\n"
     ]
    }
   ],
   "source": [
    "print('le nombre de lignes du tableau de sous-nutrition :', len(sous_nut))"
   ]
  },
  {
   "cell_type": "code",
   "execution_count": 323,
   "id": "6cebb514",
   "metadata": {},
   "outputs": [
    {
     "name": "stdout",
     "output_type": "stream",
     "text": [
      "le nombre de lignes du tableau de population : 1416\n"
     ]
    }
   ],
   "source": [
    "print('le nombre de lignes du tableau de population :', len(population))"
   ]
  },
  {
   "cell_type": "code",
   "execution_count": 324,
   "id": "c6d66762",
   "metadata": {},
   "outputs": [
    {
     "name": "stdout",
     "output_type": "stream",
     "text": [
      "le nombre de lignes du tableau d'aide alimentaire : 1475\n"
     ]
    }
   ],
   "source": [
    "print('le nombre de lignes du tableau d\\'aide alimentaire :', len(aide_alim))"
   ]
  },
  {
   "cell_type": "markdown",
   "id": "a36210d9",
   "metadata": {},
   "source": [
    "**La taille de chaque table:** *(lignes, colonnes)*"
   ]
  },
  {
   "cell_type": "code",
   "execution_count": 325,
   "id": "02e1c6c2",
   "metadata": {},
   "outputs": [
    {
     "name": "stdout",
     "output_type": "stream",
     "text": [
      "La taille du tableau de sous-nutrition : (1218, 3)\n"
     ]
    }
   ],
   "source": [
    "print('La taille du tableau de sous-nutrition :', sous_nut.shape)"
   ]
  },
  {
   "cell_type": "code",
   "execution_count": 326,
   "id": "102e9735",
   "metadata": {},
   "outputs": [
    {
     "name": "stdout",
     "output_type": "stream",
     "text": [
      "La taille du tableau de population : (1416, 3)\n"
     ]
    }
   ],
   "source": [
    "print('La taille du tableau de population :', population.shape)"
   ]
  },
  {
   "cell_type": "code",
   "execution_count": 327,
   "id": "6135c894",
   "metadata": {},
   "outputs": [
    {
     "name": "stdout",
     "output_type": "stream",
     "text": [
      "La taille du tableau d'aide alimentaire : (1475, 4)\n"
     ]
    }
   ],
   "source": [
    "print('La taille du tableau d\\'aide alimentaire :', aide_alim.shape)"
   ]
  },
  {
   "cell_type": "code",
   "execution_count": 328,
   "id": "40ad7c8a",
   "metadata": {},
   "outputs": [
    {
     "name": "stdout",
     "output_type": "stream",
     "text": [
      "La taille du tableau de disponibilité alimentaires : (15605, 18)\n"
     ]
    }
   ],
   "source": [
    "print('La taille du tableau de disponibilité alimentaires :', dispo_alim.shape)"
   ]
  },
  {
   "cell_type": "markdown",
   "id": "8289cd2a",
   "metadata": {},
   "source": [
    "**Le type de chaque colonne :**"
   ]
  },
  {
   "cell_type": "code",
   "execution_count": 329,
   "id": "cb67be96",
   "metadata": {},
   "outputs": [
    {
     "name": "stdout",
     "output_type": "stream",
     "text": [
      "Le type des colonnes de la table sous_nutrition : Zone      object\n",
      "Année     object\n",
      "Valeur    object\n",
      "dtype: object\n"
     ]
    }
   ],
   "source": [
    "print ('Le type des colonnes de la table sous_nutrition :', sous_nut.dtypes)"
   ]
  },
  {
   "cell_type": "code",
   "execution_count": 330,
   "id": "0f9a9819",
   "metadata": {},
   "outputs": [
    {
     "name": "stdout",
     "output_type": "stream",
     "text": [
      "Le type des colonnes de la table aide alimentaires : Pays bénéficiaire    object\n",
      "Année                 int64\n",
      "Produit              object\n",
      "Valeur                int64\n",
      "dtype: object\n"
     ]
    }
   ],
   "source": [
    "print ('Le type des colonnes de la table aide alimentaires :', aide_alim.dtypes)"
   ]
  },
  {
   "cell_type": "code",
   "execution_count": 331,
   "id": "be34c92d",
   "metadata": {},
   "outputs": [
    {
     "name": "stdout",
     "output_type": "stream",
     "text": [
      "Le type des colonnes de la table population : Zone       object\n",
      "Année       int64\n",
      "Valeur    float64\n",
      "dtype: object\n"
     ]
    }
   ],
   "source": [
    "print ('Le type des colonnes de la table population :', population.dtypes)"
   ]
  },
  {
   "cell_type": "code",
   "execution_count": 332,
   "id": "37c9b98a",
   "metadata": {},
   "outputs": [
    {
     "name": "stdout",
     "output_type": "stream",
     "text": [
      "Zone                                                              object\n",
      "Produit                                                           object\n",
      "Origine                                                           object\n",
      "Aliments pour animaux                                            float64\n",
      "Autres Utilisations                                              float64\n",
      "Disponibilité alimentaire (Kcal/personne/jour)                   float64\n",
      "Disponibilité alimentaire en quantité (kg/personne/an)           float64\n",
      "Disponibilité de matière grasse en quantité (g/personne/jour)    float64\n",
      "Disponibilité de protéines en quantité (g/personne/jour)         float64\n",
      "Disponibilité intérieure                                         float64\n",
      "Exportations - Quantité                                          float64\n",
      "Importations - Quantité                                          float64\n",
      "Nourriture                                                       float64\n",
      "Pertes                                                           float64\n",
      "Production                                                       float64\n",
      "Semences                                                         float64\n",
      "Traitement                                                       float64\n",
      "Variation de stock                                               float64\n",
      "dtype: object\n"
     ]
    }
   ],
   "source": [
    "print (dispo_alim.dtypes)"
   ]
  },
  {
   "cell_type": "markdown",
   "id": "960fafb7",
   "metadata": {},
   "source": [
    "**Des info sur chaque tables :**"
   ]
  },
  {
   "cell_type": "code",
   "execution_count": 333,
   "id": "f6c8c45d",
   "metadata": {},
   "outputs": [
    {
     "name": "stdout",
     "output_type": "stream",
     "text": [
      "Information sur la table sous-nutrition :\n",
      "<class 'pandas.core.frame.DataFrame'>\n",
      "RangeIndex: 1218 entries, 0 to 1217\n",
      "Data columns (total 3 columns):\n",
      " #   Column  Non-Null Count  Dtype \n",
      "---  ------  --------------  ----- \n",
      " 0   Zone    1218 non-null   object\n",
      " 1   Année   1218 non-null   object\n",
      " 2   Valeur  624 non-null    object\n",
      "dtypes: object(3)\n",
      "memory usage: 28.7+ KB\n"
     ]
    }
   ],
   "source": [
    "print('Information sur la table sous-nutrition :')\n",
    "sous_nut.info()"
   ]
  },
  {
   "cell_type": "code",
   "execution_count": 334,
   "id": "c19e2a6a",
   "metadata": {},
   "outputs": [
    {
     "name": "stdout",
     "output_type": "stream",
     "text": [
      "Information sur la table population :\n",
      "<class 'pandas.core.frame.DataFrame'>\n",
      "RangeIndex: 1416 entries, 0 to 1415\n",
      "Data columns (total 3 columns):\n",
      " #   Column  Non-Null Count  Dtype  \n",
      "---  ------  --------------  -----  \n",
      " 0   Zone    1416 non-null   object \n",
      " 1   Année   1416 non-null   int64  \n",
      " 2   Valeur  1416 non-null   float64\n",
      "dtypes: float64(1), int64(1), object(1)\n",
      "memory usage: 33.3+ KB\n"
     ]
    }
   ],
   "source": [
    "print('Information sur la table population :')\n",
    "population.info()"
   ]
  },
  {
   "cell_type": "code",
   "execution_count": 335,
   "id": "3bb5c848",
   "metadata": {},
   "outputs": [
    {
     "name": "stdout",
     "output_type": "stream",
     "text": [
      "Information sur la table aide alimentaires :\n",
      "<class 'pandas.core.frame.DataFrame'>\n",
      "RangeIndex: 1475 entries, 0 to 1474\n",
      "Data columns (total 4 columns):\n",
      " #   Column             Non-Null Count  Dtype \n",
      "---  ------             --------------  ----- \n",
      " 0   Pays bénéficiaire  1475 non-null   object\n",
      " 1   Année              1475 non-null   int64 \n",
      " 2   Produit            1475 non-null   object\n",
      " 3   Valeur             1475 non-null   int64 \n",
      "dtypes: int64(2), object(2)\n",
      "memory usage: 46.2+ KB\n"
     ]
    }
   ],
   "source": [
    "print('Information sur la table aide alimentaires :')\n",
    "aide_alim.info()"
   ]
  },
  {
   "cell_type": "code",
   "execution_count": 336,
   "id": "f5ee7fd9",
   "metadata": {},
   "outputs": [
    {
     "name": "stdout",
     "output_type": "stream",
     "text": [
      "Information sur la table disponibilité alimentaires :\n",
      "<class 'pandas.core.frame.DataFrame'>\n",
      "RangeIndex: 15605 entries, 0 to 15604\n",
      "Data columns (total 18 columns):\n",
      " #   Column                                                         Non-Null Count  Dtype  \n",
      "---  ------                                                         --------------  -----  \n",
      " 0   Zone                                                           15605 non-null  object \n",
      " 1   Produit                                                        15605 non-null  object \n",
      " 2   Origine                                                        15605 non-null  object \n",
      " 3   Aliments pour animaux                                          2720 non-null   float64\n",
      " 4   Autres Utilisations                                            5496 non-null   float64\n",
      " 5   Disponibilité alimentaire (Kcal/personne/jour)                 14241 non-null  float64\n",
      " 6   Disponibilité alimentaire en quantité (kg/personne/an)         14015 non-null  float64\n",
      " 7   Disponibilité de matière grasse en quantité (g/personne/jour)  11794 non-null  float64\n",
      " 8   Disponibilité de protéines en quantité (g/personne/jour)       11561 non-null  float64\n",
      " 9   Disponibilité intérieure                                       15382 non-null  float64\n",
      " 10  Exportations - Quantité                                        12226 non-null  float64\n",
      " 11  Importations - Quantité                                        14852 non-null  float64\n",
      " 12  Nourriture                                                     14015 non-null  float64\n",
      " 13  Pertes                                                         4278 non-null   float64\n",
      " 14  Production                                                     9180 non-null   float64\n",
      " 15  Semences                                                       2091 non-null   float64\n",
      " 16  Traitement                                                     2292 non-null   float64\n",
      " 17  Variation de stock                                             6776 non-null   float64\n",
      "dtypes: float64(15), object(3)\n",
      "memory usage: 2.1+ MB\n"
     ]
    }
   ],
   "source": [
    "print('Information sur la table disponibilité alimentaires :')\n",
    "dispo_alim.info()"
   ]
  },
  {
   "cell_type": "markdown",
   "id": "67e07328",
   "metadata": {},
   "source": [
    "# 4. Les requêtes\n",
    "# La proportion de personnes en état de sous_nutrition :\n",
    "# Traitement de données :"
   ]
  },
  {
   "cell_type": "code",
   "execution_count": 337,
   "id": "7576838e",
   "metadata": {},
   "outputs": [
    {
     "name": "stdout",
     "output_type": "stream",
     "text": [
      "                                        Zone  Année     Valeur\n",
      "4                                Afghanistan   2017  36296.113\n",
      "10                            Afrique du Sud   2017  57009.756\n",
      "16                                   Albanie   2017   2884.169\n",
      "22                                   Algérie   2017  41389.189\n",
      "28                                 Allemagne   2017  82658.409\n",
      "...                                      ...    ...        ...\n",
      "1390  Venezuela (République bolivarienne du)   2017  29402.484\n",
      "1396                                Viet Nam   2017  94600.648\n",
      "1402                                   Yémen   2017  27834.819\n",
      "1408                                  Zambie   2017  16853.599\n",
      "1414                                Zimbabwe   2017  14236.595\n",
      "\n",
      "[236 rows x 3 columns]\n"
     ]
    }
   ],
   "source": [
    "#Je crée une nouvelle table 'flt_population' où je ne garde que les données correspondant à l'année 2017.\n",
    "value = [2017]\n",
    "flt_population = population[population.Année.isin(value)]\n",
    "print (flt_population)"
   ]
  },
  {
   "cell_type": "code",
   "execution_count": 338,
   "id": "a1f703d3",
   "metadata": {},
   "outputs": [],
   "source": [
    "#Je remplace le symbole '<0.1' de certaine valeurs de la colonne 'Valeur' par '0.1':\n",
    "sous_nut.loc[sous_nut[\"Valeur\"]==\"<0.1\"] = sous_nut.replace({'Valeur': r\"<0.1\"}, {'Valeur': \"0.01\"}, regex=True)\n",
    "\n",
    "#Changement du type de la colonnes 'Valeur' de \"Objet\" à \"Float\" :\n",
    "\n",
    "sous_nut[['Valeur']] = sous_nut[['Valeur']].astype(float)\n",
    "\n",
    "# 'flt_sous_nut' ou je ne garde que les données pour l'intervalle d'année '2016-2018':\n",
    "value1 = ['2016-2018']\n",
    "flt_sous_nut = sous_nut[sous_nut.Année.isin(value1)] "
   ]
  },
  {
   "cell_type": "code",
   "execution_count": 339,
   "id": "2bca0eab",
   "metadata": {},
   "outputs": [
    {
     "data": {
      "text/html": [
       "<div>\n",
       "<style scoped>\n",
       "    .dataframe tbody tr th:only-of-type {\n",
       "        vertical-align: middle;\n",
       "    }\n",
       "\n",
       "    .dataframe tbody tr th {\n",
       "        vertical-align: top;\n",
       "    }\n",
       "\n",
       "    .dataframe thead th {\n",
       "        text-align: right;\n",
       "    }\n",
       "</style>\n",
       "<table border=\"1\" class=\"dataframe\">\n",
       "  <thead>\n",
       "    <tr style=\"text-align: right;\">\n",
       "      <th></th>\n",
       "      <th>Zone</th>\n",
       "      <th>Année</th>\n",
       "      <th>Valeur</th>\n",
       "    </tr>\n",
       "  </thead>\n",
       "  <tbody>\n",
       "    <tr>\n",
       "      <th>4</th>\n",
       "      <td>Afghanistan</td>\n",
       "      <td>2016-2018</td>\n",
       "      <td>10.5</td>\n",
       "    </tr>\n",
       "    <tr>\n",
       "      <th>10</th>\n",
       "      <td>Afrique du Sud</td>\n",
       "      <td>2016-2018</td>\n",
       "      <td>3.1</td>\n",
       "    </tr>\n",
       "    <tr>\n",
       "      <th>16</th>\n",
       "      <td>Albanie</td>\n",
       "      <td>2016-2018</td>\n",
       "      <td>0.1</td>\n",
       "    </tr>\n",
       "    <tr>\n",
       "      <th>22</th>\n",
       "      <td>Algérie</td>\n",
       "      <td>2016-2018</td>\n",
       "      <td>1.3</td>\n",
       "    </tr>\n",
       "    <tr>\n",
       "      <th>28</th>\n",
       "      <td>Allemagne</td>\n",
       "      <td>2016-2018</td>\n",
       "      <td>NaN</td>\n",
       "    </tr>\n",
       "    <tr>\n",
       "      <th>...</th>\n",
       "      <td>...</td>\n",
       "      <td>...</td>\n",
       "      <td>...</td>\n",
       "    </tr>\n",
       "    <tr>\n",
       "      <th>1192</th>\n",
       "      <td>Venezuela (République bolivarienne du)</td>\n",
       "      <td>2016-2018</td>\n",
       "      <td>8.0</td>\n",
       "    </tr>\n",
       "    <tr>\n",
       "      <th>1198</th>\n",
       "      <td>Viet Nam</td>\n",
       "      <td>2016-2018</td>\n",
       "      <td>6.5</td>\n",
       "    </tr>\n",
       "    <tr>\n",
       "      <th>1204</th>\n",
       "      <td>Yémen</td>\n",
       "      <td>2016-2018</td>\n",
       "      <td>NaN</td>\n",
       "    </tr>\n",
       "    <tr>\n",
       "      <th>1210</th>\n",
       "      <td>Zambie</td>\n",
       "      <td>2016-2018</td>\n",
       "      <td>NaN</td>\n",
       "    </tr>\n",
       "    <tr>\n",
       "      <th>1216</th>\n",
       "      <td>Zimbabwe</td>\n",
       "      <td>2016-2018</td>\n",
       "      <td>NaN</td>\n",
       "    </tr>\n",
       "  </tbody>\n",
       "</table>\n",
       "<p>203 rows × 3 columns</p>\n",
       "</div>"
      ],
      "text/plain": [
       "                                        Zone      Année  Valeur\n",
       "4                                Afghanistan  2016-2018    10.5\n",
       "10                            Afrique du Sud  2016-2018     3.1\n",
       "16                                   Albanie  2016-2018     0.1\n",
       "22                                   Algérie  2016-2018     1.3\n",
       "28                                 Allemagne  2016-2018     NaN\n",
       "...                                      ...        ...     ...\n",
       "1192  Venezuela (République bolivarienne du)  2016-2018     8.0\n",
       "1198                                Viet Nam  2016-2018     6.5\n",
       "1204                                   Yémen  2016-2018     NaN\n",
       "1210                                  Zambie  2016-2018     NaN\n",
       "1216                                Zimbabwe  2016-2018     NaN\n",
       "\n",
       "[203 rows x 3 columns]"
      ]
     },
     "execution_count": 339,
     "metadata": {},
     "output_type": "execute_result"
    }
   ],
   "source": [
    "flt_sous_nut"
   ]
  },
  {
   "cell_type": "code",
   "execution_count": 340,
   "id": "10fa478f",
   "metadata": {},
   "outputs": [
    {
     "name": "stdout",
     "output_type": "stream",
     "text": [
      "<class 'pandas.core.frame.DataFrame'>\n",
      "Int64Index: 203 entries, 4 to 1216\n",
      "Data columns (total 3 columns):\n",
      " #   Column  Non-Null Count  Dtype  \n",
      "---  ------  --------------  -----  \n",
      " 0   Zone    203 non-null    object \n",
      " 1   Année   203 non-null    object \n",
      " 2   Valeur  104 non-null    float64\n",
      "dtypes: float64(1), object(2)\n",
      "memory usage: 6.3+ KB\n"
     ]
    }
   ],
   "source": [
    "flt_sous_nut.info()"
   ]
  },
  {
   "cell_type": "code",
   "execution_count": 341,
   "id": "9968134c",
   "metadata": {},
   "outputs": [],
   "source": [
    "#Suppression de la colonne 'Année' dans 'flt_sous_nut' pour ne pas avoir de doublons :\n",
    "del flt_sous_nut['Année']"
   ]
  },
  {
   "cell_type": "code",
   "execution_count": 342,
   "id": "39637428",
   "metadata": {},
   "outputs": [
    {
     "name": "stderr",
     "output_type": "stream",
     "text": [
      "/Users/fabienmirosa/opt/anaconda3/lib/python3.8/site-packages/pandas/core/frame.py:4441: SettingWithCopyWarning: \n",
      "A value is trying to be set on a copy of a slice from a DataFrame\n",
      "\n",
      "See the caveats in the documentation: https://pandas.pydata.org/pandas-docs/stable/user_guide/indexing.html#returning-a-view-versus-a-copy\n",
      "  return super().rename(\n"
     ]
    }
   ],
   "source": [
    "# changement du nom de la colonne 'valeur' dans 'flt_population' :\n",
    "flt_population.rename(columns={'Valeur': 'Valeur_pop'}, inplace=True)"
   ]
  },
  {
   "cell_type": "code",
   "execution_count": 343,
   "id": "9fdf3dac",
   "metadata": {},
   "outputs": [],
   "source": [
    "# 'df_1' la jointure interne des deux tables 'flt_sous_nut' et 'flt_population' :\n",
    "df_1 = pd.merge(left=flt_sous_nut, right=flt_population,how='inner', left_on='Zone', right_on='Zone')"
   ]
  },
  {
   "cell_type": "code",
   "execution_count": 344,
   "id": "271a3464",
   "metadata": {},
   "outputs": [
    {
     "data": {
      "text/html": [
       "<div>\n",
       "<style scoped>\n",
       "    .dataframe tbody tr th:only-of-type {\n",
       "        vertical-align: middle;\n",
       "    }\n",
       "\n",
       "    .dataframe tbody tr th {\n",
       "        vertical-align: top;\n",
       "    }\n",
       "\n",
       "    .dataframe thead th {\n",
       "        text-align: right;\n",
       "    }\n",
       "</style>\n",
       "<table border=\"1\" class=\"dataframe\">\n",
       "  <thead>\n",
       "    <tr style=\"text-align: right;\">\n",
       "      <th></th>\n",
       "      <th>Zone</th>\n",
       "      <th>Valeur</th>\n",
       "      <th>Année</th>\n",
       "      <th>Valeur_pop</th>\n",
       "    </tr>\n",
       "  </thead>\n",
       "  <tbody>\n",
       "    <tr>\n",
       "      <th>0</th>\n",
       "      <td>Afghanistan</td>\n",
       "      <td>10.5</td>\n",
       "      <td>2017</td>\n",
       "      <td>36296.113</td>\n",
       "    </tr>\n",
       "    <tr>\n",
       "      <th>1</th>\n",
       "      <td>Afrique du Sud</td>\n",
       "      <td>3.1</td>\n",
       "      <td>2017</td>\n",
       "      <td>57009.756</td>\n",
       "    </tr>\n",
       "    <tr>\n",
       "      <th>2</th>\n",
       "      <td>Albanie</td>\n",
       "      <td>0.1</td>\n",
       "      <td>2017</td>\n",
       "      <td>2884.169</td>\n",
       "    </tr>\n",
       "    <tr>\n",
       "      <th>3</th>\n",
       "      <td>Algérie</td>\n",
       "      <td>1.3</td>\n",
       "      <td>2017</td>\n",
       "      <td>41389.189</td>\n",
       "    </tr>\n",
       "    <tr>\n",
       "      <th>4</th>\n",
       "      <td>Allemagne</td>\n",
       "      <td>NaN</td>\n",
       "      <td>2017</td>\n",
       "      <td>82658.409</td>\n",
       "    </tr>\n",
       "    <tr>\n",
       "      <th>...</th>\n",
       "      <td>...</td>\n",
       "      <td>...</td>\n",
       "      <td>...</td>\n",
       "      <td>...</td>\n",
       "    </tr>\n",
       "    <tr>\n",
       "      <th>198</th>\n",
       "      <td>Venezuela (République bolivarienne du)</td>\n",
       "      <td>8.0</td>\n",
       "      <td>2017</td>\n",
       "      <td>29402.484</td>\n",
       "    </tr>\n",
       "    <tr>\n",
       "      <th>199</th>\n",
       "      <td>Viet Nam</td>\n",
       "      <td>6.5</td>\n",
       "      <td>2017</td>\n",
       "      <td>94600.648</td>\n",
       "    </tr>\n",
       "    <tr>\n",
       "      <th>200</th>\n",
       "      <td>Yémen</td>\n",
       "      <td>NaN</td>\n",
       "      <td>2017</td>\n",
       "      <td>27834.819</td>\n",
       "    </tr>\n",
       "    <tr>\n",
       "      <th>201</th>\n",
       "      <td>Zambie</td>\n",
       "      <td>NaN</td>\n",
       "      <td>2017</td>\n",
       "      <td>16853.599</td>\n",
       "    </tr>\n",
       "    <tr>\n",
       "      <th>202</th>\n",
       "      <td>Zimbabwe</td>\n",
       "      <td>NaN</td>\n",
       "      <td>2017</td>\n",
       "      <td>14236.595</td>\n",
       "    </tr>\n",
       "  </tbody>\n",
       "</table>\n",
       "<p>203 rows × 4 columns</p>\n",
       "</div>"
      ],
      "text/plain": [
       "                                       Zone  Valeur  Année  Valeur_pop\n",
       "0                               Afghanistan    10.5   2017   36296.113\n",
       "1                            Afrique du Sud     3.1   2017   57009.756\n",
       "2                                   Albanie     0.1   2017    2884.169\n",
       "3                                   Algérie     1.3   2017   41389.189\n",
       "4                                 Allemagne     NaN   2017   82658.409\n",
       "..                                      ...     ...    ...         ...\n",
       "198  Venezuela (République bolivarienne du)     8.0   2017   29402.484\n",
       "199                                Viet Nam     6.5   2017   94600.648\n",
       "200                                   Yémen     NaN   2017   27834.819\n",
       "201                                  Zambie     NaN   2017   16853.599\n",
       "202                                Zimbabwe     NaN   2017   14236.595\n",
       "\n",
       "[203 rows x 4 columns]"
      ]
     },
     "execution_count": 344,
     "metadata": {},
     "output_type": "execute_result"
    }
   ],
   "source": [
    "df_1"
   ]
  },
  {
   "cell_type": "code",
   "execution_count": 345,
   "id": "b30f1972",
   "metadata": {},
   "outputs": [
    {
     "name": "stdout",
     "output_type": "stream",
     "text": [
      "<class 'pandas.core.frame.DataFrame'>\n",
      "Int64Index: 203 entries, 0 to 202\n",
      "Data columns (total 4 columns):\n",
      " #   Column      Non-Null Count  Dtype  \n",
      "---  ------      --------------  -----  \n",
      " 0   Zone        203 non-null    object \n",
      " 1   Valeur      104 non-null    float64\n",
      " 2   Année       203 non-null    int64  \n",
      " 3   Valeur_pop  203 non-null    float64\n",
      "dtypes: float64(2), int64(1), object(1)\n",
      "memory usage: 7.9+ KB\n"
     ]
    }
   ],
   "source": [
    "df_1.info()"
   ]
  },
  {
   "cell_type": "markdown",
   "id": "105f563c",
   "metadata": {},
   "source": [
    "# Calcul de la proportion de personnes en état de sous_nutrition :"
   ]
  },
  {
   "cell_type": "code",
   "execution_count": 346,
   "id": "983044d5",
   "metadata": {},
   "outputs": [],
   "source": [
    "#'nb_1' :le nombre total de personnes en sous-alimentation en millions d'habitant :\n",
    "nb_1 =df_1['Valeur'].sum()"
   ]
  },
  {
   "cell_type": "code",
   "execution_count": 347,
   "id": "2039420a",
   "metadata": {},
   "outputs": [],
   "source": [
    "#'nb_2' : la population total des pays  en millions :\n",
    "nb_2 =df_1['Valeur_pop'].sum() / 1000"
   ]
  },
  {
   "cell_type": "code",
   "execution_count": 348,
   "id": "c63cf8b9",
   "metadata": {},
   "outputs": [],
   "source": [
    "#'prop' : La proportion de personnes en état de sous-nitrition :\n",
    "prop =round((nb_1/nb_2)*100,2)"
   ]
  },
  {
   "cell_type": "code",
   "execution_count": 349,
   "id": "bd9cc415",
   "metadata": {},
   "outputs": [
    {
     "name": "stdout",
     "output_type": "stream",
     "text": [
      "La proportion de personnes en état de sous-nitrition en 2017 est de 7.1 %\n"
     ]
    }
   ],
   "source": [
    "print ('La proportion de personnes en état de sous-nitrition en 2017 est de', prop, '%')"
   ]
  },
  {
   "cell_type": "markdown",
   "id": "b74a5155",
   "metadata": {},
   "source": [
    "# La disponibilité alimentaire totale et végétale :"
   ]
  },
  {
   "cell_type": "code",
   "execution_count": 350,
   "id": "e7428799",
   "metadata": {},
   "outputs": [],
   "source": [
    "# 'dp_alim' la jointure interne des deux tables 'dispo_alim' et 'flt_population' :\n",
    "dp_alim = pd.merge(left=dispo_alim, right=flt_population,how='inner', left_on='Zone', right_on='Zone')"
   ]
  },
  {
   "cell_type": "code",
   "execution_count": 351,
   "id": "b00f34cf",
   "metadata": {},
   "outputs": [
    {
     "data": {
      "text/html": [
       "<div>\n",
       "<style scoped>\n",
       "    .dataframe tbody tr th:only-of-type {\n",
       "        vertical-align: middle;\n",
       "    }\n",
       "\n",
       "    .dataframe tbody tr th {\n",
       "        vertical-align: top;\n",
       "    }\n",
       "\n",
       "    .dataframe thead th {\n",
       "        text-align: right;\n",
       "    }\n",
       "</style>\n",
       "<table border=\"1\" class=\"dataframe\">\n",
       "  <thead>\n",
       "    <tr style=\"text-align: right;\">\n",
       "      <th></th>\n",
       "      <th>Zone</th>\n",
       "      <th>Produit</th>\n",
       "      <th>Origine</th>\n",
       "      <th>Aliments pour animaux</th>\n",
       "      <th>Autres Utilisations</th>\n",
       "      <th>Disponibilité alimentaire (Kcal/personne/jour)</th>\n",
       "      <th>Disponibilité alimentaire en quantité (kg/personne/an)</th>\n",
       "      <th>Disponibilité de matière grasse en quantité (g/personne/jour)</th>\n",
       "      <th>Disponibilité de protéines en quantité (g/personne/jour)</th>\n",
       "      <th>Disponibilité intérieure</th>\n",
       "      <th>Exportations - Quantité</th>\n",
       "      <th>Importations - Quantité</th>\n",
       "      <th>Nourriture</th>\n",
       "      <th>Pertes</th>\n",
       "      <th>Production</th>\n",
       "      <th>Semences</th>\n",
       "      <th>Traitement</th>\n",
       "      <th>Variation de stock</th>\n",
       "      <th>Année</th>\n",
       "      <th>Valeur_pop</th>\n",
       "    </tr>\n",
       "  </thead>\n",
       "  <tbody>\n",
       "    <tr>\n",
       "      <th>0</th>\n",
       "      <td>Afghanistan</td>\n",
       "      <td>Abats Comestible</td>\n",
       "      <td>animale</td>\n",
       "      <td>NaN</td>\n",
       "      <td>NaN</td>\n",
       "      <td>5.0</td>\n",
       "      <td>1.72</td>\n",
       "      <td>0.20</td>\n",
       "      <td>0.77</td>\n",
       "      <td>53.0</td>\n",
       "      <td>NaN</td>\n",
       "      <td>NaN</td>\n",
       "      <td>53.0</td>\n",
       "      <td>NaN</td>\n",
       "      <td>53.0</td>\n",
       "      <td>NaN</td>\n",
       "      <td>NaN</td>\n",
       "      <td>NaN</td>\n",
       "      <td>2017</td>\n",
       "      <td>36296.113</td>\n",
       "    </tr>\n",
       "    <tr>\n",
       "      <th>1</th>\n",
       "      <td>Afghanistan</td>\n",
       "      <td>Agrumes, Autres</td>\n",
       "      <td>vegetale</td>\n",
       "      <td>NaN</td>\n",
       "      <td>NaN</td>\n",
       "      <td>1.0</td>\n",
       "      <td>1.29</td>\n",
       "      <td>0.01</td>\n",
       "      <td>0.02</td>\n",
       "      <td>41.0</td>\n",
       "      <td>2.0</td>\n",
       "      <td>40.0</td>\n",
       "      <td>39.0</td>\n",
       "      <td>2.0</td>\n",
       "      <td>3.0</td>\n",
       "      <td>NaN</td>\n",
       "      <td>NaN</td>\n",
       "      <td>NaN</td>\n",
       "      <td>2017</td>\n",
       "      <td>36296.113</td>\n",
       "    </tr>\n",
       "    <tr>\n",
       "      <th>2</th>\n",
       "      <td>Afghanistan</td>\n",
       "      <td>Aliments pour enfants</td>\n",
       "      <td>vegetale</td>\n",
       "      <td>NaN</td>\n",
       "      <td>NaN</td>\n",
       "      <td>1.0</td>\n",
       "      <td>0.06</td>\n",
       "      <td>0.01</td>\n",
       "      <td>0.03</td>\n",
       "      <td>2.0</td>\n",
       "      <td>NaN</td>\n",
       "      <td>2.0</td>\n",
       "      <td>2.0</td>\n",
       "      <td>NaN</td>\n",
       "      <td>NaN</td>\n",
       "      <td>NaN</td>\n",
       "      <td>NaN</td>\n",
       "      <td>NaN</td>\n",
       "      <td>2017</td>\n",
       "      <td>36296.113</td>\n",
       "    </tr>\n",
       "    <tr>\n",
       "      <th>3</th>\n",
       "      <td>Afghanistan</td>\n",
       "      <td>Ananas</td>\n",
       "      <td>vegetale</td>\n",
       "      <td>NaN</td>\n",
       "      <td>NaN</td>\n",
       "      <td>0.0</td>\n",
       "      <td>0.00</td>\n",
       "      <td>NaN</td>\n",
       "      <td>NaN</td>\n",
       "      <td>0.0</td>\n",
       "      <td>NaN</td>\n",
       "      <td>0.0</td>\n",
       "      <td>0.0</td>\n",
       "      <td>NaN</td>\n",
       "      <td>NaN</td>\n",
       "      <td>NaN</td>\n",
       "      <td>NaN</td>\n",
       "      <td>NaN</td>\n",
       "      <td>2017</td>\n",
       "      <td>36296.113</td>\n",
       "    </tr>\n",
       "    <tr>\n",
       "      <th>4</th>\n",
       "      <td>Afghanistan</td>\n",
       "      <td>Bananes</td>\n",
       "      <td>vegetale</td>\n",
       "      <td>NaN</td>\n",
       "      <td>NaN</td>\n",
       "      <td>4.0</td>\n",
       "      <td>2.70</td>\n",
       "      <td>0.02</td>\n",
       "      <td>0.05</td>\n",
       "      <td>82.0</td>\n",
       "      <td>NaN</td>\n",
       "      <td>82.0</td>\n",
       "      <td>82.0</td>\n",
       "      <td>NaN</td>\n",
       "      <td>NaN</td>\n",
       "      <td>NaN</td>\n",
       "      <td>NaN</td>\n",
       "      <td>NaN</td>\n",
       "      <td>2017</td>\n",
       "      <td>36296.113</td>\n",
       "    </tr>\n",
       "    <tr>\n",
       "      <th>...</th>\n",
       "      <td>...</td>\n",
       "      <td>...</td>\n",
       "      <td>...</td>\n",
       "      <td>...</td>\n",
       "      <td>...</td>\n",
       "      <td>...</td>\n",
       "      <td>...</td>\n",
       "      <td>...</td>\n",
       "      <td>...</td>\n",
       "      <td>...</td>\n",
       "      <td>...</td>\n",
       "      <td>...</td>\n",
       "      <td>...</td>\n",
       "      <td>...</td>\n",
       "      <td>...</td>\n",
       "      <td>...</td>\n",
       "      <td>...</td>\n",
       "      <td>...</td>\n",
       "      <td>...</td>\n",
       "      <td>...</td>\n",
       "    </tr>\n",
       "    <tr>\n",
       "      <th>15411</th>\n",
       "      <td>Îles Salomon</td>\n",
       "      <td>Viande de Suides</td>\n",
       "      <td>animale</td>\n",
       "      <td>NaN</td>\n",
       "      <td>NaN</td>\n",
       "      <td>45.0</td>\n",
       "      <td>4.70</td>\n",
       "      <td>4.28</td>\n",
       "      <td>1.41</td>\n",
       "      <td>3.0</td>\n",
       "      <td>NaN</td>\n",
       "      <td>0.0</td>\n",
       "      <td>3.0</td>\n",
       "      <td>NaN</td>\n",
       "      <td>2.0</td>\n",
       "      <td>NaN</td>\n",
       "      <td>NaN</td>\n",
       "      <td>NaN</td>\n",
       "      <td>2017</td>\n",
       "      <td>636.039</td>\n",
       "    </tr>\n",
       "    <tr>\n",
       "      <th>15412</th>\n",
       "      <td>Îles Salomon</td>\n",
       "      <td>Viande de Volailles</td>\n",
       "      <td>animale</td>\n",
       "      <td>NaN</td>\n",
       "      <td>NaN</td>\n",
       "      <td>11.0</td>\n",
       "      <td>3.34</td>\n",
       "      <td>0.69</td>\n",
       "      <td>1.14</td>\n",
       "      <td>2.0</td>\n",
       "      <td>NaN</td>\n",
       "      <td>2.0</td>\n",
       "      <td>2.0</td>\n",
       "      <td>NaN</td>\n",
       "      <td>0.0</td>\n",
       "      <td>NaN</td>\n",
       "      <td>NaN</td>\n",
       "      <td>NaN</td>\n",
       "      <td>2017</td>\n",
       "      <td>636.039</td>\n",
       "    </tr>\n",
       "    <tr>\n",
       "      <th>15413</th>\n",
       "      <td>Îles Salomon</td>\n",
       "      <td>Viande, Autre</td>\n",
       "      <td>animale</td>\n",
       "      <td>NaN</td>\n",
       "      <td>NaN</td>\n",
       "      <td>0.0</td>\n",
       "      <td>0.06</td>\n",
       "      <td>NaN</td>\n",
       "      <td>0.04</td>\n",
       "      <td>0.0</td>\n",
       "      <td>NaN</td>\n",
       "      <td>0.0</td>\n",
       "      <td>0.0</td>\n",
       "      <td>NaN</td>\n",
       "      <td>NaN</td>\n",
       "      <td>NaN</td>\n",
       "      <td>NaN</td>\n",
       "      <td>NaN</td>\n",
       "      <td>2017</td>\n",
       "      <td>636.039</td>\n",
       "    </tr>\n",
       "    <tr>\n",
       "      <th>15414</th>\n",
       "      <td>Îles Salomon</td>\n",
       "      <td>Vin</td>\n",
       "      <td>vegetale</td>\n",
       "      <td>NaN</td>\n",
       "      <td>NaN</td>\n",
       "      <td>0.0</td>\n",
       "      <td>0.07</td>\n",
       "      <td>NaN</td>\n",
       "      <td>NaN</td>\n",
       "      <td>0.0</td>\n",
       "      <td>0.0</td>\n",
       "      <td>0.0</td>\n",
       "      <td>0.0</td>\n",
       "      <td>NaN</td>\n",
       "      <td>NaN</td>\n",
       "      <td>NaN</td>\n",
       "      <td>NaN</td>\n",
       "      <td>NaN</td>\n",
       "      <td>2017</td>\n",
       "      <td>636.039</td>\n",
       "    </tr>\n",
       "    <tr>\n",
       "      <th>15415</th>\n",
       "      <td>Îles Salomon</td>\n",
       "      <td>Épices, Autres</td>\n",
       "      <td>vegetale</td>\n",
       "      <td>NaN</td>\n",
       "      <td>NaN</td>\n",
       "      <td>4.0</td>\n",
       "      <td>0.48</td>\n",
       "      <td>0.21</td>\n",
       "      <td>0.15</td>\n",
       "      <td>0.0</td>\n",
       "      <td>0.0</td>\n",
       "      <td>0.0</td>\n",
       "      <td>0.0</td>\n",
       "      <td>NaN</td>\n",
       "      <td>0.0</td>\n",
       "      <td>NaN</td>\n",
       "      <td>NaN</td>\n",
       "      <td>NaN</td>\n",
       "      <td>2017</td>\n",
       "      <td>636.039</td>\n",
       "    </tr>\n",
       "  </tbody>\n",
       "</table>\n",
       "<p>15416 rows × 20 columns</p>\n",
       "</div>"
      ],
      "text/plain": [
       "               Zone                Produit   Origine  Aliments pour animaux  \\\n",
       "0       Afghanistan       Abats Comestible   animale                    NaN   \n",
       "1       Afghanistan        Agrumes, Autres  vegetale                    NaN   \n",
       "2       Afghanistan  Aliments pour enfants  vegetale                    NaN   \n",
       "3       Afghanistan                 Ananas  vegetale                    NaN   \n",
       "4       Afghanistan                Bananes  vegetale                    NaN   \n",
       "...             ...                    ...       ...                    ...   \n",
       "15411  Îles Salomon       Viande de Suides   animale                    NaN   \n",
       "15412  Îles Salomon    Viande de Volailles   animale                    NaN   \n",
       "15413  Îles Salomon          Viande, Autre   animale                    NaN   \n",
       "15414  Îles Salomon                    Vin  vegetale                    NaN   \n",
       "15415  Îles Salomon         Épices, Autres  vegetale                    NaN   \n",
       "\n",
       "       Autres Utilisations  Disponibilité alimentaire (Kcal/personne/jour)  \\\n",
       "0                      NaN                                             5.0   \n",
       "1                      NaN                                             1.0   \n",
       "2                      NaN                                             1.0   \n",
       "3                      NaN                                             0.0   \n",
       "4                      NaN                                             4.0   \n",
       "...                    ...                                             ...   \n",
       "15411                  NaN                                            45.0   \n",
       "15412                  NaN                                            11.0   \n",
       "15413                  NaN                                             0.0   \n",
       "15414                  NaN                                             0.0   \n",
       "15415                  NaN                                             4.0   \n",
       "\n",
       "       Disponibilité alimentaire en quantité (kg/personne/an)  \\\n",
       "0                                                   1.72        \n",
       "1                                                   1.29        \n",
       "2                                                   0.06        \n",
       "3                                                   0.00        \n",
       "4                                                   2.70        \n",
       "...                                                  ...        \n",
       "15411                                               4.70        \n",
       "15412                                               3.34        \n",
       "15413                                               0.06        \n",
       "15414                                               0.07        \n",
       "15415                                               0.48        \n",
       "\n",
       "       Disponibilité de matière grasse en quantité (g/personne/jour)  \\\n",
       "0                                                   0.20               \n",
       "1                                                   0.01               \n",
       "2                                                   0.01               \n",
       "3                                                    NaN               \n",
       "4                                                   0.02               \n",
       "...                                                  ...               \n",
       "15411                                               4.28               \n",
       "15412                                               0.69               \n",
       "15413                                                NaN               \n",
       "15414                                                NaN               \n",
       "15415                                               0.21               \n",
       "\n",
       "       Disponibilité de protéines en quantité (g/personne/jour)  \\\n",
       "0                                                   0.77          \n",
       "1                                                   0.02          \n",
       "2                                                   0.03          \n",
       "3                                                    NaN          \n",
       "4                                                   0.05          \n",
       "...                                                  ...          \n",
       "15411                                               1.41          \n",
       "15412                                               1.14          \n",
       "15413                                               0.04          \n",
       "15414                                                NaN          \n",
       "15415                                               0.15          \n",
       "\n",
       "       Disponibilité intérieure  Exportations - Quantité  \\\n",
       "0                          53.0                      NaN   \n",
       "1                          41.0                      2.0   \n",
       "2                           2.0                      NaN   \n",
       "3                           0.0                      NaN   \n",
       "4                          82.0                      NaN   \n",
       "...                         ...                      ...   \n",
       "15411                       3.0                      NaN   \n",
       "15412                       2.0                      NaN   \n",
       "15413                       0.0                      NaN   \n",
       "15414                       0.0                      0.0   \n",
       "15415                       0.0                      0.0   \n",
       "\n",
       "       Importations - Quantité  Nourriture  Pertes  Production  Semences  \\\n",
       "0                          NaN        53.0     NaN        53.0       NaN   \n",
       "1                         40.0        39.0     2.0         3.0       NaN   \n",
       "2                          2.0         2.0     NaN         NaN       NaN   \n",
       "3                          0.0         0.0     NaN         NaN       NaN   \n",
       "4                         82.0        82.0     NaN         NaN       NaN   \n",
       "...                        ...         ...     ...         ...       ...   \n",
       "15411                      0.0         3.0     NaN         2.0       NaN   \n",
       "15412                      2.0         2.0     NaN         0.0       NaN   \n",
       "15413                      0.0         0.0     NaN         NaN       NaN   \n",
       "15414                      0.0         0.0     NaN         NaN       NaN   \n",
       "15415                      0.0         0.0     NaN         0.0       NaN   \n",
       "\n",
       "       Traitement  Variation de stock  Année  Valeur_pop  \n",
       "0             NaN                 NaN   2017   36296.113  \n",
       "1             NaN                 NaN   2017   36296.113  \n",
       "2             NaN                 NaN   2017   36296.113  \n",
       "3             NaN                 NaN   2017   36296.113  \n",
       "4             NaN                 NaN   2017   36296.113  \n",
       "...           ...                 ...    ...         ...  \n",
       "15411         NaN                 NaN   2017     636.039  \n",
       "15412         NaN                 NaN   2017     636.039  \n",
       "15413         NaN                 NaN   2017     636.039  \n",
       "15414         NaN                 NaN   2017     636.039  \n",
       "15415         NaN                 NaN   2017     636.039  \n",
       "\n",
       "[15416 rows x 20 columns]"
      ]
     },
     "execution_count": 351,
     "metadata": {},
     "output_type": "execute_result"
    }
   ],
   "source": [
    "dp_alim"
   ]
  },
  {
   "cell_type": "code",
   "execution_count": 352,
   "id": "00f36287",
   "metadata": {},
   "outputs": [],
   "source": [
    "dispo_alimentaire = round(dp_alim ['Disponibilité alimentaire (Kcal/personne/jour)'] * dp_alim['Valeur_pop']* 365)"
   ]
  },
  {
   "cell_type": "code",
   "execution_count": 353,
   "id": "5a09ccc0",
   "metadata": {},
   "outputs": [
    {
     "name": "stdout",
     "output_type": "stream",
     "text": [
      "La disponibilité alimentaire totale en kcal est: 7635429388995.0 kcal pour l'année 2017.\n"
     ]
    }
   ],
   "source": [
    "print ('La disponibilité alimentaire totale en kcal est:', dispo_alimentaire.sum(), 'kcal pour l\\'année 2017.')"
   ]
  },
  {
   "cell_type": "markdown",
   "id": "36d5c70a",
   "metadata": {},
   "source": [
    "*On sait que le besoin d'un homme se mesure à peu prés à 2500kcal/j*"
   ]
  },
  {
   "cell_type": "code",
   "execution_count": 354,
   "id": "fe61c1a8",
   "metadata": {},
   "outputs": [],
   "source": [
    "#'nb_th' : le nombre théorique de personnes qui pourraient être nourries.\n",
    "nb_th_alim =round (dispo_alimentaire.sum() /(2500*365),2)"
   ]
  },
  {
   "cell_type": "code",
   "execution_count": 355,
   "id": "e1450e91",
   "metadata": {},
   "outputs": [
    {
     "name": "stdout",
     "output_type": "stream",
     "text": [
      "Le nombre théorique de personnes qui pourraient être nourries : 8367593.85\n",
      "proportion : 110.86 %\n"
     ]
    }
   ],
   "source": [
    "print ('Le nombre théorique de personnes qui pourraient être nourries :', nb_th_alim)\n",
    "print ('proportion :', '{:.2f}'.format(nb_th_alim*100/flt_population['Valeur_pop'].sum()),'%')"
   ]
  },
  {
   "cell_type": "markdown",
   "id": "3263eb8a",
   "metadata": {},
   "source": [
    "*Même chose pour les produits végétaux :*"
   ]
  },
  {
   "cell_type": "code",
   "execution_count": 356,
   "id": "22c188c5",
   "metadata": {},
   "outputs": [],
   "source": [
    "#'flt_dp_alim' est le tableau dp_alim ou on ne garde que les lignes ou les produits sont d'origine vegetale.\n",
    "vegetale =['vegetale']\n",
    "flt_dp_alim = dp_alim[dp_alim.Origine.isin(vegetale)]"
   ]
  },
  {
   "cell_type": "code",
   "execution_count": 357,
   "id": "ac75359f",
   "metadata": {},
   "outputs": [
    {
     "name": "stdout",
     "output_type": "stream",
     "text": [
      "La disponibilité alimentaire végetale totale en kcal est 6300178937227.0 kcal\n"
     ]
    }
   ],
   "source": [
    "dispo_alim_vege = round(flt_dp_alim ['Disponibilité alimentaire (Kcal/personne/jour)'] * flt_dp_alim['Valeur_pop']* 365)\n",
    "print ('La disponibilité alimentaire végetale totale en kcal est', dispo_alim_vege.sum(), 'kcal')"
   ]
  },
  {
   "cell_type": "code",
   "execution_count": 358,
   "id": "d2c6cbd7",
   "metadata": {},
   "outputs": [
    {
     "name": "stdout",
     "output_type": "stream",
     "text": [
      "Le nombre théorique de personnes qui pourraient être nourries avec des produits végetaux: 6904305.68 kcal\n",
      "proportion : 91.47 %\n"
     ]
    }
   ],
   "source": [
    "nb_th_vege =round (dispo_alim_vege.sum() /(2500*365),2)\n",
    "print ('Le nombre théorique de personnes qui pourraient être nourries avec des produits végetaux:', nb_th_vege, 'kcal')\n",
    "print ('proportion :', '{:.2f}'.format(nb_th_vege*100/flt_population['Valeur_pop'].sum()),'%')"
   ]
  },
  {
   "cell_type": "markdown",
   "id": "d2c82b79",
   "metadata": {},
   "source": [
    "# Disponibilité intérieure"
   ]
  },
  {
   "cell_type": "markdown",
   "id": "9a008bd1",
   "metadata": {},
   "source": [
    "**Proportion attribuée à l’alimentation animale, perdue, utilisée pour l'alimentation humaine**"
   ]
  },
  {
   "cell_type": "code",
   "execution_count": 359,
   "id": "704558bd",
   "metadata": {},
   "outputs": [
    {
     "name": "stdout",
     "output_type": "stream",
     "text": [
      "Proportion de Aliments pour animaux : 13.15%\n",
      "Proportion de Pertes : 4.57%\n",
      "Proportion de Nourriture : 49.15%\n",
      "Proportion de Semences : 1.56%\n",
      "Proportion de Traitement : 22.22%\n",
      "Proportion de Autres Utilisations : 8.72%\n"
     ]
    }
   ],
   "source": [
    "dispo_interieure = dispo_alim[\"Disponibilité intérieure\"].sum()\n",
    "\n",
    "for elt in [\"Aliments pour animaux\",\"Pertes\", \"Nourriture\", \"Semences\", \"Traitement\", \"Autres Utilisations\" ]:\n",
    "    print(\"Proportion de\", elt, \":\", \"{:.2%}\".format(dispo_alim[elt].sum()/dp_alim['Production'].sum()))"
   ]
  },
  {
   "cell_type": "markdown",
   "id": "d5e5f922",
   "metadata": {},
   "source": [
    "*Un Pie-Chart pour représenter les proportions trouvé précédemment:*"
   ]
  },
  {
   "cell_type": "code",
   "execution_count": 360,
   "id": "08e56af3",
   "metadata": {},
   "outputs": [
    {
     "data": {
      "text/html": [
       "<div>\n",
       "<style scoped>\n",
       "    .dataframe tbody tr th:only-of-type {\n",
       "        vertical-align: middle;\n",
       "    }\n",
       "\n",
       "    .dataframe tbody tr th {\n",
       "        vertical-align: top;\n",
       "    }\n",
       "\n",
       "    .dataframe thead th {\n",
       "        text-align: right;\n",
       "    }\n",
       "</style>\n",
       "<table border=\"1\" class=\"dataframe\">\n",
       "  <thead>\n",
       "    <tr style=\"text-align: right;\">\n",
       "      <th></th>\n",
       "      <th>Produit</th>\n",
       "      <th>Aliments pour animaux</th>\n",
       "      <th>Pertes</th>\n",
       "      <th>Nourriture</th>\n",
       "      <th>Semences</th>\n",
       "      <th>Traitement</th>\n",
       "      <th>Autres Utilisations</th>\n",
       "      <th>Disponibilité intérieure</th>\n",
       "    </tr>\n",
       "  </thead>\n",
       "  <tbody>\n",
       "    <tr>\n",
       "      <th>0</th>\n",
       "      <td>Abats Comestible</td>\n",
       "      <td>1009.0</td>\n",
       "      <td>73.0</td>\n",
       "      <td>15669.0</td>\n",
       "      <td>0.0</td>\n",
       "      <td>0.0</td>\n",
       "      <td>848.0</td>\n",
       "      <td>17587.0</td>\n",
       "    </tr>\n",
       "    <tr>\n",
       "      <th>1</th>\n",
       "      <td>Agrumes, Autres</td>\n",
       "      <td>0.0</td>\n",
       "      <td>810.0</td>\n",
       "      <td>11359.0</td>\n",
       "      <td>0.0</td>\n",
       "      <td>72.0</td>\n",
       "      <td>25.0</td>\n",
       "      <td>12176.0</td>\n",
       "    </tr>\n",
       "    <tr>\n",
       "      <th>2</th>\n",
       "      <td>Alcool, non Comestible</td>\n",
       "      <td>0.0</td>\n",
       "      <td>0.0</td>\n",
       "      <td>0.0</td>\n",
       "      <td>0.0</td>\n",
       "      <td>0.0</td>\n",
       "      <td>21769.0</td>\n",
       "      <td>21741.0</td>\n",
       "    </tr>\n",
       "    <tr>\n",
       "      <th>3</th>\n",
       "      <td>Aliments pour enfants</td>\n",
       "      <td>0.0</td>\n",
       "      <td>1.0</td>\n",
       "      <td>761.0</td>\n",
       "      <td>0.0</td>\n",
       "      <td>0.0</td>\n",
       "      <td>0.0</td>\n",
       "      <td>84.0</td>\n",
       "    </tr>\n",
       "    <tr>\n",
       "      <th>4</th>\n",
       "      <td>Ananas</td>\n",
       "      <td>0.0</td>\n",
       "      <td>2745.0</td>\n",
       "      <td>20757.0</td>\n",
       "      <td>0.0</td>\n",
       "      <td>8.0</td>\n",
       "      <td>3.0</td>\n",
       "      <td>23282.0</td>\n",
       "    </tr>\n",
       "    <tr>\n",
       "      <th>...</th>\n",
       "      <td>...</td>\n",
       "      <td>...</td>\n",
       "      <td>...</td>\n",
       "      <td>...</td>\n",
       "      <td>...</td>\n",
       "      <td>...</td>\n",
       "      <td>...</td>\n",
       "      <td>...</td>\n",
       "    </tr>\n",
       "    <tr>\n",
       "      <th>93</th>\n",
       "      <td>Viande de Suides</td>\n",
       "      <td>0.0</td>\n",
       "      <td>275.0</td>\n",
       "      <td>112100.0</td>\n",
       "      <td>0.0</td>\n",
       "      <td>36.0</td>\n",
       "      <td>284.0</td>\n",
       "      <td>112547.0</td>\n",
       "    </tr>\n",
       "    <tr>\n",
       "      <th>94</th>\n",
       "      <td>Viande de Volailles</td>\n",
       "      <td>0.0</td>\n",
       "      <td>385.0</td>\n",
       "      <td>104871.0</td>\n",
       "      <td>0.0</td>\n",
       "      <td>474.0</td>\n",
       "      <td>1258.0</td>\n",
       "      <td>106975.0</td>\n",
       "    </tr>\n",
       "    <tr>\n",
       "      <th>95</th>\n",
       "      <td>Viande, Autre</td>\n",
       "      <td>57.0</td>\n",
       "      <td>13.0</td>\n",
       "      <td>6823.0</td>\n",
       "      <td>0.0</td>\n",
       "      <td>17.0</td>\n",
       "      <td>15.0</td>\n",
       "      <td>6809.0</td>\n",
       "    </tr>\n",
       "    <tr>\n",
       "      <th>96</th>\n",
       "      <td>Vin</td>\n",
       "      <td>0.0</td>\n",
       "      <td>284.0</td>\n",
       "      <td>22985.0</td>\n",
       "      <td>0.0</td>\n",
       "      <td>2464.0</td>\n",
       "      <td>1588.0</td>\n",
       "      <td>27316.0</td>\n",
       "    </tr>\n",
       "    <tr>\n",
       "      <th>97</th>\n",
       "      <td>Épices, Autres</td>\n",
       "      <td>0.0</td>\n",
       "      <td>91.0</td>\n",
       "      <td>5118.0</td>\n",
       "      <td>0.0</td>\n",
       "      <td>0.0</td>\n",
       "      <td>185.0</td>\n",
       "      <td>5372.0</td>\n",
       "    </tr>\n",
       "  </tbody>\n",
       "</table>\n",
       "<p>98 rows × 8 columns</p>\n",
       "</div>"
      ],
      "text/plain": [
       "                   Produit  Aliments pour animaux  Pertes  Nourriture  \\\n",
       "0         Abats Comestible                 1009.0    73.0     15669.0   \n",
       "1          Agrumes, Autres                    0.0   810.0     11359.0   \n",
       "2   Alcool, non Comestible                    0.0     0.0         0.0   \n",
       "3    Aliments pour enfants                    0.0     1.0       761.0   \n",
       "4                   Ananas                    0.0  2745.0     20757.0   \n",
       "..                     ...                    ...     ...         ...   \n",
       "93        Viande de Suides                    0.0   275.0    112100.0   \n",
       "94     Viande de Volailles                    0.0   385.0    104871.0   \n",
       "95           Viande, Autre                   57.0    13.0      6823.0   \n",
       "96                     Vin                    0.0   284.0     22985.0   \n",
       "97          Épices, Autres                    0.0    91.0      5118.0   \n",
       "\n",
       "    Semences  Traitement  Autres Utilisations  Disponibilité intérieure  \n",
       "0        0.0         0.0                848.0                   17587.0  \n",
       "1        0.0        72.0                 25.0                   12176.0  \n",
       "2        0.0         0.0              21769.0                   21741.0  \n",
       "3        0.0         0.0                  0.0                      84.0  \n",
       "4        0.0         8.0                  3.0                   23282.0  \n",
       "..       ...         ...                  ...                       ...  \n",
       "93       0.0        36.0                284.0                  112547.0  \n",
       "94       0.0       474.0               1258.0                  106975.0  \n",
       "95       0.0        17.0                 15.0                    6809.0  \n",
       "96       0.0      2464.0               1588.0                   27316.0  \n",
       "97       0.0         0.0                185.0                    5372.0  \n",
       "\n",
       "[98 rows x 8 columns]"
      ]
     },
     "execution_count": 360,
     "metadata": {},
     "output_type": "execute_result"
    }
   ],
   "source": [
    "df_produits = dispo_alim.groupby([\"Produit\"]).sum()\n",
    "df_produits = df_produits[[\"Aliments pour animaux\", \"Pertes\", \"Nourriture\", \"Semences\", \"Traitement\", \"Autres Utilisations\",\"Disponibilité intérieure\"]]\n",
    "df_produits.reset_index(inplace=True)\n",
    "df_produits"
   ]
  },
  {
   "cell_type": "code",
   "execution_count": 361,
   "id": "c90269ec",
   "metadata": {},
   "outputs": [
    {
     "data": {
      "image/png": "[encoded data removed]",
      "text/plain": [
       "<Figure size 1080x504 with 1 Axes>"
      ]
     },
     "metadata": {},
     "output_type": "display_data"
    }
   ],
   "source": [
    "import matplotlib.pyplot as plt\n",
    "\n",
    "\n",
    "labels='Aliments pour animaux', 'Pertes', 'Nourriture', 'Semences','Traitement', 'Autres Utilisations'\n",
    "x=[df_produits[elt].sum() for elt in labels]\n",
    "\n",
    "#plt.pie(x,labels)\n",
    "#plt.pie(x, labels)\n",
    "\n",
    "\n",
    "fig1, ax1 = plt.subplots()\n",
    "ax1.pie(x, labels=labels, autopct='%1.1f%%',\n",
    "        shadow=False, startangle=23)\n",
    "ax1.axis('equal')  # Equal aspect ratio ensures that pie is drawn as a circle.\n",
    "\n",
    "ax1.set_title(\"PROPORTION DE L'UTILISATION DES DISPONIBILITES INTERIEURES EN 2017\", fontweight=\"bold\")\n",
    "fig1.set_size_inches(15, 7)\n",
    "fig1.savefig(\".\\PROPORTION UTILISATION DES DISPONIBILITES INTERIEURES EN 2017.png\")\n",
    "plt.show()"
   ]
  },
  {
   "cell_type": "markdown",
   "id": "e6e3c881",
   "metadata": {},
   "source": [
    "# Répartition de l'utilisation des céréales entre l’alimentation humaine et l’alimentation pour animaux\n",
    "La liste des céréales a été trouvée dans l’onglet Bilans alimentaires, sur le site \n",
    "http://www.fao.org/faostat/fr/#data."
   ]
  },
  {
   "cell_type": "code",
   "execution_count": 362,
   "id": "c0ca14fa",
   "metadata": {},
   "outputs": [],
   "source": [
    "liste_cereale = ['Avoine', 'Blé', 'Céréales, Autres', 'Maïs', 'Millet', 'Orge', 'Riz (Eq Blanchi)', 'Seigle','Sorgho']"
   ]
  },
  {
   "cell_type": "code",
   "execution_count": 363,
   "id": "72df3cda",
   "metadata": {},
   "outputs": [
    {
     "data": {
      "text/html": [
       "<div>\n",
       "<style scoped>\n",
       "    .dataframe tbody tr th:only-of-type {\n",
       "        vertical-align: middle;\n",
       "    }\n",
       "\n",
       "    .dataframe tbody tr th {\n",
       "        vertical-align: top;\n",
       "    }\n",
       "\n",
       "    .dataframe thead th {\n",
       "        text-align: right;\n",
       "    }\n",
       "</style>\n",
       "<table border=\"1\" class=\"dataframe\">\n",
       "  <thead>\n",
       "    <tr style=\"text-align: right;\">\n",
       "      <th></th>\n",
       "      <th>Zone</th>\n",
       "      <th>Produit</th>\n",
       "      <th>Origine</th>\n",
       "      <th>Aliments pour animaux</th>\n",
       "      <th>Autres Utilisations</th>\n",
       "      <th>Disponibilité alimentaire (Kcal/personne/jour)</th>\n",
       "      <th>Disponibilité alimentaire en quantité (kg/personne/an)</th>\n",
       "      <th>Disponibilité de matière grasse en quantité (g/personne/jour)</th>\n",
       "      <th>Disponibilité de protéines en quantité (g/personne/jour)</th>\n",
       "      <th>Disponibilité intérieure</th>\n",
       "      <th>Exportations - Quantité</th>\n",
       "      <th>Importations - Quantité</th>\n",
       "      <th>Nourriture</th>\n",
       "      <th>Pertes</th>\n",
       "      <th>Production</th>\n",
       "      <th>Semences</th>\n",
       "      <th>Traitement</th>\n",
       "      <th>Variation de stock</th>\n",
       "    </tr>\n",
       "  </thead>\n",
       "  <tbody>\n",
       "    <tr>\n",
       "      <th>7</th>\n",
       "      <td>Afghanistan</td>\n",
       "      <td>Blé</td>\n",
       "      <td>vegetale</td>\n",
       "      <td>NaN</td>\n",
       "      <td>NaN</td>\n",
       "      <td>1369.0</td>\n",
       "      <td>160.23</td>\n",
       "      <td>4.69</td>\n",
       "      <td>36.91</td>\n",
       "      <td>5992.0</td>\n",
       "      <td>NaN</td>\n",
       "      <td>1173.0</td>\n",
       "      <td>4895.0</td>\n",
       "      <td>775.0</td>\n",
       "      <td>5169.0</td>\n",
       "      <td>322.0</td>\n",
       "      <td>NaN</td>\n",
       "      <td>-350.0</td>\n",
       "    </tr>\n",
       "    <tr>\n",
       "      <th>12</th>\n",
       "      <td>Afghanistan</td>\n",
       "      <td>Céréales, Autres</td>\n",
       "      <td>vegetale</td>\n",
       "      <td>NaN</td>\n",
       "      <td>NaN</td>\n",
       "      <td>0.0</td>\n",
       "      <td>0.00</td>\n",
       "      <td>0.00</td>\n",
       "      <td>0.00</td>\n",
       "      <td>0.0</td>\n",
       "      <td>NaN</td>\n",
       "      <td>0.0</td>\n",
       "      <td>0.0</td>\n",
       "      <td>NaN</td>\n",
       "      <td>NaN</td>\n",
       "      <td>NaN</td>\n",
       "      <td>NaN</td>\n",
       "      <td>NaN</td>\n",
       "    </tr>\n",
       "    <tr>\n",
       "      <th>32</th>\n",
       "      <td>Afghanistan</td>\n",
       "      <td>Maïs</td>\n",
       "      <td>vegetale</td>\n",
       "      <td>200.0</td>\n",
       "      <td>NaN</td>\n",
       "      <td>21.0</td>\n",
       "      <td>2.50</td>\n",
       "      <td>0.30</td>\n",
       "      <td>0.56</td>\n",
       "      <td>313.0</td>\n",
       "      <td>0.0</td>\n",
       "      <td>1.0</td>\n",
       "      <td>76.0</td>\n",
       "      <td>31.0</td>\n",
       "      <td>312.0</td>\n",
       "      <td>5.0</td>\n",
       "      <td>NaN</td>\n",
       "      <td>NaN</td>\n",
       "    </tr>\n",
       "    <tr>\n",
       "      <th>34</th>\n",
       "      <td>Afghanistan</td>\n",
       "      <td>Millet</td>\n",
       "      <td>vegetale</td>\n",
       "      <td>NaN</td>\n",
       "      <td>NaN</td>\n",
       "      <td>3.0</td>\n",
       "      <td>0.40</td>\n",
       "      <td>0.02</td>\n",
       "      <td>0.08</td>\n",
       "      <td>13.0</td>\n",
       "      <td>NaN</td>\n",
       "      <td>NaN</td>\n",
       "      <td>12.0</td>\n",
       "      <td>1.0</td>\n",
       "      <td>13.0</td>\n",
       "      <td>0.0</td>\n",
       "      <td>NaN</td>\n",
       "      <td>NaN</td>\n",
       "    </tr>\n",
       "    <tr>\n",
       "      <th>40</th>\n",
       "      <td>Afghanistan</td>\n",
       "      <td>Orge</td>\n",
       "      <td>vegetale</td>\n",
       "      <td>360.0</td>\n",
       "      <td>NaN</td>\n",
       "      <td>26.0</td>\n",
       "      <td>2.92</td>\n",
       "      <td>0.24</td>\n",
       "      <td>0.79</td>\n",
       "      <td>524.0</td>\n",
       "      <td>NaN</td>\n",
       "      <td>10.0</td>\n",
       "      <td>89.0</td>\n",
       "      <td>52.0</td>\n",
       "      <td>514.0</td>\n",
       "      <td>22.0</td>\n",
       "      <td>NaN</td>\n",
       "      <td>0.0</td>\n",
       "    </tr>\n",
       "    <tr>\n",
       "      <th>...</th>\n",
       "      <td>...</td>\n",
       "      <td>...</td>\n",
       "      <td>...</td>\n",
       "      <td>...</td>\n",
       "      <td>...</td>\n",
       "      <td>...</td>\n",
       "      <td>...</td>\n",
       "      <td>...</td>\n",
       "      <td>...</td>\n",
       "      <td>...</td>\n",
       "      <td>...</td>\n",
       "      <td>...</td>\n",
       "      <td>...</td>\n",
       "      <td>...</td>\n",
       "      <td>...</td>\n",
       "      <td>...</td>\n",
       "      <td>...</td>\n",
       "      <td>...</td>\n",
       "    </tr>\n",
       "    <tr>\n",
       "      <th>15545</th>\n",
       "      <td>Îles Salomon</td>\n",
       "      <td>Céréales, Autres</td>\n",
       "      <td>vegetale</td>\n",
       "      <td>NaN</td>\n",
       "      <td>NaN</td>\n",
       "      <td>0.0</td>\n",
       "      <td>0.00</td>\n",
       "      <td>0.00</td>\n",
       "      <td>0.00</td>\n",
       "      <td>0.0</td>\n",
       "      <td>NaN</td>\n",
       "      <td>0.0</td>\n",
       "      <td>0.0</td>\n",
       "      <td>0.0</td>\n",
       "      <td>NaN</td>\n",
       "      <td>NaN</td>\n",
       "      <td>NaN</td>\n",
       "      <td>NaN</td>\n",
       "    </tr>\n",
       "    <tr>\n",
       "      <th>15568</th>\n",
       "      <td>Îles Salomon</td>\n",
       "      <td>Maïs</td>\n",
       "      <td>vegetale</td>\n",
       "      <td>NaN</td>\n",
       "      <td>NaN</td>\n",
       "      <td>1.0</td>\n",
       "      <td>0.15</td>\n",
       "      <td>0.01</td>\n",
       "      <td>0.03</td>\n",
       "      <td>0.0</td>\n",
       "      <td>NaN</td>\n",
       "      <td>0.0</td>\n",
       "      <td>0.0</td>\n",
       "      <td>NaN</td>\n",
       "      <td>NaN</td>\n",
       "      <td>NaN</td>\n",
       "      <td>NaN</td>\n",
       "      <td>NaN</td>\n",
       "    </tr>\n",
       "    <tr>\n",
       "      <th>15575</th>\n",
       "      <td>Îles Salomon</td>\n",
       "      <td>Orge</td>\n",
       "      <td>vegetale</td>\n",
       "      <td>NaN</td>\n",
       "      <td>NaN</td>\n",
       "      <td>0.0</td>\n",
       "      <td>0.07</td>\n",
       "      <td>NaN</td>\n",
       "      <td>0.01</td>\n",
       "      <td>1.0</td>\n",
       "      <td>NaN</td>\n",
       "      <td>1.0</td>\n",
       "      <td>0.0</td>\n",
       "      <td>NaN</td>\n",
       "      <td>NaN</td>\n",
       "      <td>NaN</td>\n",
       "      <td>1.0</td>\n",
       "      <td>NaN</td>\n",
       "    </tr>\n",
       "    <tr>\n",
       "      <th>15591</th>\n",
       "      <td>Îles Salomon</td>\n",
       "      <td>Riz (Eq Blanchi)</td>\n",
       "      <td>vegetale</td>\n",
       "      <td>0.0</td>\n",
       "      <td>12.0</td>\n",
       "      <td>623.0</td>\n",
       "      <td>63.76</td>\n",
       "      <td>1.36</td>\n",
       "      <td>10.90</td>\n",
       "      <td>49.0</td>\n",
       "      <td>0.0</td>\n",
       "      <td>47.0</td>\n",
       "      <td>36.0</td>\n",
       "      <td>1.0</td>\n",
       "      <td>3.0</td>\n",
       "      <td>0.0</td>\n",
       "      <td>NaN</td>\n",
       "      <td>0.0</td>\n",
       "    </tr>\n",
       "    <tr>\n",
       "      <th>15593</th>\n",
       "      <td>Îles Salomon</td>\n",
       "      <td>Sorgho</td>\n",
       "      <td>vegetale</td>\n",
       "      <td>0.0</td>\n",
       "      <td>NaN</td>\n",
       "      <td>NaN</td>\n",
       "      <td>NaN</td>\n",
       "      <td>NaN</td>\n",
       "      <td>NaN</td>\n",
       "      <td>0.0</td>\n",
       "      <td>NaN</td>\n",
       "      <td>0.0</td>\n",
       "      <td>NaN</td>\n",
       "      <td>NaN</td>\n",
       "      <td>NaN</td>\n",
       "      <td>NaN</td>\n",
       "      <td>NaN</td>\n",
       "      <td>NaN</td>\n",
       "    </tr>\n",
       "  </tbody>\n",
       "</table>\n",
       "<p>1497 rows × 18 columns</p>\n",
       "</div>"
      ],
      "text/plain": [
       "               Zone           Produit   Origine  Aliments pour animaux  \\\n",
       "7       Afghanistan               Blé  vegetale                    NaN   \n",
       "12      Afghanistan  Céréales, Autres  vegetale                    NaN   \n",
       "32      Afghanistan              Maïs  vegetale                  200.0   \n",
       "34      Afghanistan            Millet  vegetale                    NaN   \n",
       "40      Afghanistan              Orge  vegetale                  360.0   \n",
       "...             ...               ...       ...                    ...   \n",
       "15545  Îles Salomon  Céréales, Autres  vegetale                    NaN   \n",
       "15568  Îles Salomon              Maïs  vegetale                    NaN   \n",
       "15575  Îles Salomon              Orge  vegetale                    NaN   \n",
       "15591  Îles Salomon  Riz (Eq Blanchi)  vegetale                    0.0   \n",
       "15593  Îles Salomon            Sorgho  vegetale                    0.0   \n",
       "\n",
       "       Autres Utilisations  Disponibilité alimentaire (Kcal/personne/jour)  \\\n",
       "7                      NaN                                          1369.0   \n",
       "12                     NaN                                             0.0   \n",
       "32                     NaN                                            21.0   \n",
       "34                     NaN                                             3.0   \n",
       "40                     NaN                                            26.0   \n",
       "...                    ...                                             ...   \n",
       "15545                  NaN                                             0.0   \n",
       "15568                  NaN                                             1.0   \n",
       "15575                  NaN                                             0.0   \n",
       "15591                 12.0                                           623.0   \n",
       "15593                  NaN                                             NaN   \n",
       "\n",
       "       Disponibilité alimentaire en quantité (kg/personne/an)  \\\n",
       "7                                                 160.23        \n",
       "12                                                  0.00        \n",
       "32                                                  2.50        \n",
       "34                                                  0.40        \n",
       "40                                                  2.92        \n",
       "...                                                  ...        \n",
       "15545                                               0.00        \n",
       "15568                                               0.15        \n",
       "15575                                               0.07        \n",
       "15591                                              63.76        \n",
       "15593                                                NaN        \n",
       "\n",
       "       Disponibilité de matière grasse en quantité (g/personne/jour)  \\\n",
       "7                                                   4.69               \n",
       "12                                                  0.00               \n",
       "32                                                  0.30               \n",
       "34                                                  0.02               \n",
       "40                                                  0.24               \n",
       "...                                                  ...               \n",
       "15545                                               0.00               \n",
       "15568                                               0.01               \n",
       "15575                                                NaN               \n",
       "15591                                               1.36               \n",
       "15593                                                NaN               \n",
       "\n",
       "       Disponibilité de protéines en quantité (g/personne/jour)  \\\n",
       "7                                                  36.91          \n",
       "12                                                  0.00          \n",
       "32                                                  0.56          \n",
       "34                                                  0.08          \n",
       "40                                                  0.79          \n",
       "...                                                  ...          \n",
       "15545                                               0.00          \n",
       "15568                                               0.03          \n",
       "15575                                               0.01          \n",
       "15591                                              10.90          \n",
       "15593                                                NaN          \n",
       "\n",
       "       Disponibilité intérieure  Exportations - Quantité  \\\n",
       "7                        5992.0                      NaN   \n",
       "12                          0.0                      NaN   \n",
       "32                        313.0                      0.0   \n",
       "34                         13.0                      NaN   \n",
       "40                        524.0                      NaN   \n",
       "...                         ...                      ...   \n",
       "15545                       0.0                      NaN   \n",
       "15568                       0.0                      NaN   \n",
       "15575                       1.0                      NaN   \n",
       "15591                      49.0                      0.0   \n",
       "15593                       0.0                      NaN   \n",
       "\n",
       "       Importations - Quantité  Nourriture  Pertes  Production  Semences  \\\n",
       "7                       1173.0      4895.0   775.0      5169.0     322.0   \n",
       "12                         0.0         0.0     NaN         NaN       NaN   \n",
       "32                         1.0        76.0    31.0       312.0       5.0   \n",
       "34                         NaN        12.0     1.0        13.0       0.0   \n",
       "40                        10.0        89.0    52.0       514.0      22.0   \n",
       "...                        ...         ...     ...         ...       ...   \n",
       "15545                      0.0         0.0     0.0         NaN       NaN   \n",
       "15568                      0.0         0.0     NaN         NaN       NaN   \n",
       "15575                      1.0         0.0     NaN         NaN       NaN   \n",
       "15591                     47.0        36.0     1.0         3.0       0.0   \n",
       "15593                      0.0         NaN     NaN         NaN       NaN   \n",
       "\n",
       "       Traitement  Variation de stock  \n",
       "7             NaN              -350.0  \n",
       "12            NaN                 NaN  \n",
       "32            NaN                 NaN  \n",
       "34            NaN                 NaN  \n",
       "40            NaN                 0.0  \n",
       "...           ...                 ...  \n",
       "15545         NaN                 NaN  \n",
       "15568         NaN                 NaN  \n",
       "15575         1.0                 NaN  \n",
       "15591         NaN                 0.0  \n",
       "15593         NaN                 NaN  \n",
       "\n",
       "[1497 rows x 18 columns]"
      ]
     },
     "execution_count": 363,
     "metadata": {},
     "output_type": "execute_result"
    }
   ],
   "source": [
    "#Je crée une nouvelle table 'cereales' où je ne garde que les lignes contenants aux \"céréales\".\n",
    "\n",
    "cereales = dispo_alim[dispo_alim.Produit.isin(liste_cereale)]\n",
    "cereales"
   ]
  },
  {
   "cell_type": "code",
   "execution_count": 364,
   "id": "1a16f63d",
   "metadata": {},
   "outputs": [
    {
     "name": "stdout",
     "output_type": "stream",
     "text": [
      "proportion attribuée à l'alimentation animale : 36.29 %.\n",
      "proportion attribuée à l'alimentation humaine : 42.75 %.\n"
     ]
    }
   ],
   "source": [
    "print ('proportion attribuée à l\\'alimentation animale :', \"{:.2f}\".format(cereales['Aliments pour animaux'].sum()*100/cereales['Disponibilité intérieure'].sum()),'%.')\n",
    "print ('proportion attribuée à l\\'alimentation humaine :', \"{:.2f}\".format(cereales['Nourriture'].sum()*100/cereales['Disponibilité intérieure'].sum()),'%.')"
   ]
  },
  {
   "cell_type": "code",
   "execution_count": 365,
   "id": "c73300f8",
   "metadata": {
    "scrolled": true
   },
   "outputs": [
    {
     "data": {
      "image/png": "[encoded data removed]",
      "text/plain": [
       "<Figure size 1080x504 with 1 Axes>"
      ]
     },
     "metadata": {},
     "output_type": "display_data"
    }
   ],
   "source": [
    "import matplotlib.pyplot as plt\n",
    "\n",
    "label = \"PROPORTION UTILISATION MONDIALES DES CEREALES EN 2017\"\n",
    "labels = \"Aliments pour animaux\", \"Nourriture\"\n",
    "x = [(cereales[el].sum()*100/cereales[\"Disponibilité intérieure\"].sum()) for el in labels]\n",
    "explode = (0, 0) \n",
    "\n",
    "fig1, ax1 = plt.subplots()\n",
    "ax1.pie(x, explode=explode, labels=labels, autopct='%1.2f%%',\n",
    "        shadow=False, startangle=90)\n",
    "ax1.axis('equal')  # Traitement des ratio pour obtenir un cercle.\n",
    "\n",
    "plt.title(label , fontdict=None, loc=None, pad=None, y=None,fontweight=\"bold\")\n",
    "fig1.set_size_inches(15, 7)\n",
    "fig1.savefig(\"./PROPORTION UTILISATION MONDIALES DES CEREALES EN 2017.png\")\n",
    "plt.show()"
   ]
  },
  {
   "cell_type": "markdown",
   "id": "6c74bc6d",
   "metadata": {},
   "source": [
    "# Utilisation du manioc par la Thaïlande"
   ]
  },
  {
   "cell_type": "code",
   "execution_count": 366,
   "id": "70660763",
   "metadata": {},
   "outputs": [
    {
     "name": "stderr",
     "output_type": "stream",
     "text": [
      "<ipython-input-366-47c0d5b77a99>:5: SettingWithCopyWarning: \n",
      "A value is trying to be set on a copy of a slice from a DataFrame.\n",
      "Try using .loc[row_indexer,col_indexer] = value instead\n",
      "\n",
      "See the caveats in the documentation: https://pandas.pydata.org/pandas-docs/stable/user_guide/indexing.html#returning-a-view-versus-a-copy\n",
      "  thai['Valeur'] = thai['Valeur']*1000 #Changement d'unité\n"
     ]
    },
    {
     "data": {
      "text/html": [
       "<div>\n",
       "<style scoped>\n",
       "    .dataframe tbody tr th:only-of-type {\n",
       "        vertical-align: middle;\n",
       "    }\n",
       "\n",
       "    .dataframe tbody tr th {\n",
       "        vertical-align: top;\n",
       "    }\n",
       "\n",
       "    .dataframe thead th {\n",
       "        text-align: right;\n",
       "    }\n",
       "</style>\n",
       "<table border=\"1\" class=\"dataframe\">\n",
       "  <thead>\n",
       "    <tr style=\"text-align: right;\">\n",
       "      <th></th>\n",
       "      <th>Zone</th>\n",
       "      <th>Valeur</th>\n",
       "      <th>Année</th>\n",
       "      <th>Valeur_pop</th>\n",
       "    </tr>\n",
       "  </thead>\n",
       "  <tbody>\n",
       "    <tr>\n",
       "      <th>185</th>\n",
       "      <td>Thaïlande</td>\n",
       "      <td>6200.0</td>\n",
       "      <td>2017</td>\n",
       "      <td>69209.81</td>\n",
       "    </tr>\n",
       "  </tbody>\n",
       "</table>\n",
       "</div>"
      ],
      "text/plain": [
       "          Zone  Valeur  Année  Valeur_pop\n",
       "185  Thaïlande  6200.0   2017    69209.81"
      ]
     },
     "execution_count": 366,
     "metadata": {},
     "output_type": "execute_result"
    }
   ],
   "source": [
    "# 'df_1' la jointure interne des deux tables 'flt_sous_nut' et 'flt_population' :\n",
    "# 'thai' est la table où je ne garde que les informations concernant la Thaïlande pendant l'intervalle '2016-2018' \n",
    "thaï = ['Thaïlande']\n",
    "thai = df_1[df_1.Zone.isin(thaï)]\n",
    "thai['Valeur'] = thai['Valeur']*1000 #Changement d'unité\n",
    "thai"
   ]
  },
  {
   "cell_type": "code",
   "execution_count": 367,
   "id": "68155a91",
   "metadata": {},
   "outputs": [
    {
     "name": "stdout",
     "output_type": "stream",
     "text": [
      "La proportion d'utilisation du manioque par la Thaïlande en 2017 est de : 8.96 %.\n"
     ]
    }
   ],
   "source": [
    "print ('La proportion d\\'utilisation du manioque par la Thaïlande en 2017 est de :', \n",
    "       \"{:.2f}\".format(thai['Valeur'].iloc[0]*100/thai['Valeur_pop'].iloc[0]),'%.')"
   ]
  },
  {
   "cell_type": "code",
   "execution_count": 368,
   "id": "a07ccc85",
   "metadata": {},
   "outputs": [
    {
     "data": {
      "text/plain": [
       "Zone                                                             Thaïlande\n",
       "Produit                                                             Manioc\n",
       "Origine                                                           vegetale\n",
       "Aliments pour animaux                                               1800.0\n",
       "Autres Utilisations                                                 2081.0\n",
       "Disponibilité alimentaire (Kcal/personne/jour)                        40.0\n",
       "Disponibilité alimentaire en quantité (kg/personne/an)                13.0\n",
       "Disponibilité de matière grasse en quantité (g/personne/jour)         0.05\n",
       "Disponibilité de protéines en quantité (g/personne/jour)              0.14\n",
       "Disponibilité intérieure                                            6264.0\n",
       "Exportations - Quantité                                            25214.0\n",
       "Importations - Quantité                                             1250.0\n",
       "Nourriture                                                           871.0\n",
       "Pertes                                                              1511.0\n",
       "Production                                                         30228.0\n",
       "Semences                                                               NaN\n",
       "Traitement                                                             0.0\n",
       "Variation de stock                                                     0.0\n",
       "Name: 13809, dtype: object"
      ]
     },
     "execution_count": 368,
     "metadata": {},
     "output_type": "execute_result"
    }
   ],
   "source": [
    "Manioc_Thailand = dispo_alim[(dispo_alim[\"Zone\"]==\"Thaïlande\") & (dispo_alim[\"Produit\"]==\"Manioc\")]\n",
    "Manioc_Thailand = Manioc_Thailand.iloc[0]\n",
    "Manioc_Thailand"
   ]
  },
  {
   "cell_type": "code",
   "execution_count": 369,
   "id": "340ac94a",
   "metadata": {},
   "outputs": [
    {
     "name": "stdout",
     "output_type": "stream",
     "text": [
      "La Thailande exporte 83.41% de sa production de Manioc, quand à sa population en état de sous nutrition, elle  est estimée à 6.2 millions\n"
     ]
    }
   ],
   "source": [
    "m=flt_sous_nut[(flt_sous_nut[\"Zone\"]==\"Thaïlande\")]\n",
    "print(\"La Thailande exporte {:.2%} de sa production de Manioc, quand à sa population en état de sous nutrition, elle  est estimée à {}\".format(Manioc_Thailand['Exportations - Quantité']/Manioc_Thailand[\"Production\"],m.iloc[0][\"Valeur\"]),\"millions\")\n"
   ]
  },
  {
   "cell_type": "code",
   "execution_count": 370,
   "id": "04c2b0ea",
   "metadata": {},
   "outputs": [
    {
     "data": {
      "image/png": "[encoded data removed]",
      "text/plain": [
       "<Figure size 1080x504 with 1 Axes>"
      ]
     },
     "metadata": {},
     "output_type": "display_data"
    }
   ],
   "source": [
    "import matplotlib.pyplot as plt\n",
    "\n",
    "label = \"PROPORTION DU MANIOC EN  THAILANDE EN 2017\"\n",
    "labels = \"Production\", \"Disponibilité intérieure\", \"Exportations - Quantité\", \"Importations - Quantité\", \"Pertes\"\n",
    "sizes = [Manioc_Thailand[el] for el in labels]\n",
    "explode = (0, 0,0, 0,0) \n",
    "\n",
    "fig1, ax1 = plt.subplots()\n",
    "ax1.pie(sizes, explode=explode, labels=labels, autopct='%1.2f%%',\n",
    "        shadow=True, startangle=50)\n",
    "ax1.axis('equal')  # Traitement des ratio pour obtenir un cercle.\n",
    "\n",
    "plt.title(label , fontdict=None, loc=None, pad=None, y=None,fontweight=\"bold\")\n",
    "fig1.set_size_inches(15, 7)\n",
    "fig1.savefig(\"./PROPORTION DU MANIOC EN  THAILANDE EN 2017.png\")\n",
    "plt.show()"
   ]
  },
  {
   "cell_type": "markdown",
   "id": "37d260c5",
   "metadata": {},
   "source": [
    "# Pays dont la proportion de personnes sous-alimentées est la plus forte en 2017"
   ]
  },
  {
   "cell_type": "code",
   "execution_count": 371,
   "id": "1dcfee43",
   "metadata": {},
   "outputs": [
    {
     "data": {
      "text/html": [
       "<div>\n",
       "<style scoped>\n",
       "    .dataframe tbody tr th:only-of-type {\n",
       "        vertical-align: middle;\n",
       "    }\n",
       "\n",
       "    .dataframe tbody tr th {\n",
       "        vertical-align: top;\n",
       "    }\n",
       "\n",
       "    .dataframe thead th {\n",
       "        text-align: right;\n",
       "    }\n",
       "</style>\n",
       "<table border=\"1\" class=\"dataframe\">\n",
       "  <thead>\n",
       "    <tr style=\"text-align: right;\">\n",
       "      <th></th>\n",
       "      <th>index</th>\n",
       "      <th>Zone</th>\n",
       "      <th>Valeur</th>\n",
       "      <th>Année</th>\n",
       "      <th>Valeur_pop</th>\n",
       "    </tr>\n",
       "  </thead>\n",
       "  <tbody>\n",
       "    <tr>\n",
       "      <th>0</th>\n",
       "      <td>0</td>\n",
       "      <td>Afghanistan</td>\n",
       "      <td>10.50</td>\n",
       "      <td>2017</td>\n",
       "      <td>36296.113</td>\n",
       "    </tr>\n",
       "    <tr>\n",
       "      <th>1</th>\n",
       "      <td>1</td>\n",
       "      <td>Afrique du Sud</td>\n",
       "      <td>3.10</td>\n",
       "      <td>2017</td>\n",
       "      <td>57009.756</td>\n",
       "    </tr>\n",
       "    <tr>\n",
       "      <th>2</th>\n",
       "      <td>2</td>\n",
       "      <td>Albanie</td>\n",
       "      <td>0.10</td>\n",
       "      <td>2017</td>\n",
       "      <td>2884.169</td>\n",
       "    </tr>\n",
       "    <tr>\n",
       "      <th>3</th>\n",
       "      <td>3</td>\n",
       "      <td>Algérie</td>\n",
       "      <td>1.30</td>\n",
       "      <td>2017</td>\n",
       "      <td>41389.189</td>\n",
       "    </tr>\n",
       "    <tr>\n",
       "      <th>4</th>\n",
       "      <td>6</td>\n",
       "      <td>Angola</td>\n",
       "      <td>5.80</td>\n",
       "      <td>2017</td>\n",
       "      <td>29816.766</td>\n",
       "    </tr>\n",
       "    <tr>\n",
       "      <th>...</th>\n",
       "      <td>...</td>\n",
       "      <td>...</td>\n",
       "      <td>...</td>\n",
       "      <td>...</td>\n",
       "      <td>...</td>\n",
       "    </tr>\n",
       "    <tr>\n",
       "      <th>99</th>\n",
       "      <td>192</td>\n",
       "      <td>Turkménistan</td>\n",
       "      <td>0.20</td>\n",
       "      <td>2017</td>\n",
       "      <td>5757.667</td>\n",
       "    </tr>\n",
       "    <tr>\n",
       "      <th>100</th>\n",
       "      <td>195</td>\n",
       "      <td>Ukraine</td>\n",
       "      <td>1.50</td>\n",
       "      <td>2017</td>\n",
       "      <td>44487.709</td>\n",
       "    </tr>\n",
       "    <tr>\n",
       "      <th>101</th>\n",
       "      <td>197</td>\n",
       "      <td>Vanuatu</td>\n",
       "      <td>0.01</td>\n",
       "      <td>2017</td>\n",
       "      <td>285.510</td>\n",
       "    </tr>\n",
       "    <tr>\n",
       "      <th>102</th>\n",
       "      <td>198</td>\n",
       "      <td>Venezuela (République bolivarienne du)</td>\n",
       "      <td>8.00</td>\n",
       "      <td>2017</td>\n",
       "      <td>29402.484</td>\n",
       "    </tr>\n",
       "    <tr>\n",
       "      <th>103</th>\n",
       "      <td>199</td>\n",
       "      <td>Viet Nam</td>\n",
       "      <td>6.50</td>\n",
       "      <td>2017</td>\n",
       "      <td>94600.648</td>\n",
       "    </tr>\n",
       "  </tbody>\n",
       "</table>\n",
       "<p>104 rows × 5 columns</p>\n",
       "</div>"
      ],
      "text/plain": [
       "     index                                    Zone  Valeur  Année  Valeur_pop\n",
       "0        0                             Afghanistan   10.50   2017   36296.113\n",
       "1        1                          Afrique du Sud    3.10   2017   57009.756\n",
       "2        2                                 Albanie    0.10   2017    2884.169\n",
       "3        3                                 Algérie    1.30   2017   41389.189\n",
       "4        6                                  Angola    5.80   2017   29816.766\n",
       "..     ...                                     ...     ...    ...         ...\n",
       "99     192                            Turkménistan    0.20   2017    5757.667\n",
       "100    195                                 Ukraine    1.50   2017   44487.709\n",
       "101    197                                 Vanuatu    0.01   2017     285.510\n",
       "102    198  Venezuela (République bolivarienne du)    8.00   2017   29402.484\n",
       "103    199                                Viet Nam    6.50   2017   94600.648\n",
       "\n",
       "[104 rows x 5 columns]"
      ]
     },
     "execution_count": 371,
     "metadata": {},
     "output_type": "execute_result"
    }
   ],
   "source": [
    "#df_1 la jointure entre flt_sous_nut et flt_population\n",
    "df_1.dropna(subset=['Valeur'], inplace=True)\n",
    "df_1.reset_index(inplace=True)\n",
    "df_1"
   ]
  },
  {
   "cell_type": "code",
   "execution_count": 372,
   "id": "754fbcd4",
   "metadata": {},
   "outputs": [
    {
     "data": {
      "text/html": [
       "<div>\n",
       "<style scoped>\n",
       "    .dataframe tbody tr th:only-of-type {\n",
       "        vertical-align: middle;\n",
       "    }\n",
       "\n",
       "    .dataframe tbody tr th {\n",
       "        vertical-align: top;\n",
       "    }\n",
       "\n",
       "    .dataframe thead th {\n",
       "        text-align: right;\n",
       "    }\n",
       "</style>\n",
       "<table border=\"1\" class=\"dataframe\">\n",
       "  <thead>\n",
       "    <tr style=\"text-align: right;\">\n",
       "      <th></th>\n",
       "      <th>index</th>\n",
       "      <th>Zone</th>\n",
       "      <th>Valeur</th>\n",
       "      <th>Année</th>\n",
       "      <th>Valeur_pop</th>\n",
       "    </tr>\n",
       "  </thead>\n",
       "  <tbody>\n",
       "    <tr>\n",
       "      <th>0</th>\n",
       "      <td>0</td>\n",
       "      <td>Afghanistan</td>\n",
       "      <td>10500.0</td>\n",
       "      <td>2017</td>\n",
       "      <td>36296.113</td>\n",
       "    </tr>\n",
       "    <tr>\n",
       "      <th>1</th>\n",
       "      <td>1</td>\n",
       "      <td>Afrique du Sud</td>\n",
       "      <td>3100.0</td>\n",
       "      <td>2017</td>\n",
       "      <td>57009.756</td>\n",
       "    </tr>\n",
       "    <tr>\n",
       "      <th>2</th>\n",
       "      <td>2</td>\n",
       "      <td>Albanie</td>\n",
       "      <td>100.0</td>\n",
       "      <td>2017</td>\n",
       "      <td>2884.169</td>\n",
       "    </tr>\n",
       "    <tr>\n",
       "      <th>3</th>\n",
       "      <td>3</td>\n",
       "      <td>Algérie</td>\n",
       "      <td>1300.0</td>\n",
       "      <td>2017</td>\n",
       "      <td>41389.189</td>\n",
       "    </tr>\n",
       "    <tr>\n",
       "      <th>4</th>\n",
       "      <td>6</td>\n",
       "      <td>Angola</td>\n",
       "      <td>5800.0</td>\n",
       "      <td>2017</td>\n",
       "      <td>29816.766</td>\n",
       "    </tr>\n",
       "    <tr>\n",
       "      <th>...</th>\n",
       "      <td>...</td>\n",
       "      <td>...</td>\n",
       "      <td>...</td>\n",
       "      <td>...</td>\n",
       "      <td>...</td>\n",
       "    </tr>\n",
       "    <tr>\n",
       "      <th>99</th>\n",
       "      <td>192</td>\n",
       "      <td>Turkménistan</td>\n",
       "      <td>200.0</td>\n",
       "      <td>2017</td>\n",
       "      <td>5757.667</td>\n",
       "    </tr>\n",
       "    <tr>\n",
       "      <th>100</th>\n",
       "      <td>195</td>\n",
       "      <td>Ukraine</td>\n",
       "      <td>1500.0</td>\n",
       "      <td>2017</td>\n",
       "      <td>44487.709</td>\n",
       "    </tr>\n",
       "    <tr>\n",
       "      <th>101</th>\n",
       "      <td>197</td>\n",
       "      <td>Vanuatu</td>\n",
       "      <td>10.0</td>\n",
       "      <td>2017</td>\n",
       "      <td>285.510</td>\n",
       "    </tr>\n",
       "    <tr>\n",
       "      <th>102</th>\n",
       "      <td>198</td>\n",
       "      <td>Venezuela (République bolivarienne du)</td>\n",
       "      <td>8000.0</td>\n",
       "      <td>2017</td>\n",
       "      <td>29402.484</td>\n",
       "    </tr>\n",
       "    <tr>\n",
       "      <th>103</th>\n",
       "      <td>199</td>\n",
       "      <td>Viet Nam</td>\n",
       "      <td>6500.0</td>\n",
       "      <td>2017</td>\n",
       "      <td>94600.648</td>\n",
       "    </tr>\n",
       "  </tbody>\n",
       "</table>\n",
       "<p>104 rows × 5 columns</p>\n",
       "</div>"
      ],
      "text/plain": [
       "     index                                    Zone   Valeur  Année  Valeur_pop\n",
       "0        0                             Afghanistan  10500.0   2017   36296.113\n",
       "1        1                          Afrique du Sud   3100.0   2017   57009.756\n",
       "2        2                                 Albanie    100.0   2017    2884.169\n",
       "3        3                                 Algérie   1300.0   2017   41389.189\n",
       "4        6                                  Angola   5800.0   2017   29816.766\n",
       "..     ...                                     ...      ...    ...         ...\n",
       "99     192                            Turkménistan    200.0   2017    5757.667\n",
       "100    195                                 Ukraine   1500.0   2017   44487.709\n",
       "101    197                                 Vanuatu     10.0   2017     285.510\n",
       "102    198  Venezuela (République bolivarienne du)   8000.0   2017   29402.484\n",
       "103    199                                Viet Nam   6500.0   2017   94600.648\n",
       "\n",
       "[104 rows x 5 columns]"
      ]
     },
     "execution_count": 372,
     "metadata": {},
     "output_type": "execute_result"
    }
   ],
   "source": [
    "df_1[\"Valeur\"] = df_1[\"Valeur\"]*1000 # Changement d'unité\n",
    "df_1"
   ]
  },
  {
   "cell_type": "code",
   "execution_count": 373,
   "id": "44d82f7a",
   "metadata": {},
   "outputs": [],
   "source": [
    "df_1[\"proportion\"] = (df_1['Valeur']/(df_1['Valeur_pop']))*100"
   ]
  },
  {
   "cell_type": "code",
   "execution_count": 384,
   "id": "7a61bf9d",
   "metadata": {},
   "outputs": [
    {
     "data": {
      "text/html": [
       "<div>\n",
       "<style scoped>\n",
       "    .dataframe tbody tr th:only-of-type {\n",
       "        vertical-align: middle;\n",
       "    }\n",
       "\n",
       "    .dataframe tbody tr th {\n",
       "        vertical-align: top;\n",
       "    }\n",
       "\n",
       "    .dataframe thead th {\n",
       "        text-align: right;\n",
       "    }\n",
       "</style>\n",
       "<table border=\"1\" class=\"dataframe\">\n",
       "  <thead>\n",
       "    <tr style=\"text-align: right;\">\n",
       "      <th></th>\n",
       "      <th>index</th>\n",
       "      <th>Zone</th>\n",
       "      <th>proportion</th>\n",
       "    </tr>\n",
       "  </thead>\n",
       "  <tbody>\n",
       "    <tr>\n",
       "      <th>0</th>\n",
       "      <td>41</td>\n",
       "      <td>Haïti</td>\n",
       "      <td>48.259182</td>\n",
       "    </tr>\n",
       "    <tr>\n",
       "      <th>1</th>\n",
       "      <td>82</td>\n",
       "      <td>République populaire démocratique de Corée</td>\n",
       "      <td>47.188685</td>\n",
       "    </tr>\n",
       "    <tr>\n",
       "      <th>2</th>\n",
       "      <td>57</td>\n",
       "      <td>Madagascar</td>\n",
       "      <td>41.062924</td>\n",
       "    </tr>\n",
       "    <tr>\n",
       "      <th>3</th>\n",
       "      <td>55</td>\n",
       "      <td>Libéria</td>\n",
       "      <td>38.279742</td>\n",
       "    </tr>\n",
       "    <tr>\n",
       "      <th>4</th>\n",
       "      <td>53</td>\n",
       "      <td>Lesotho</td>\n",
       "      <td>38.249438</td>\n",
       "    </tr>\n",
       "    <tr>\n",
       "      <th>5</th>\n",
       "      <td>94</td>\n",
       "      <td>Tchad</td>\n",
       "      <td>37.957606</td>\n",
       "    </tr>\n",
       "    <tr>\n",
       "      <th>6</th>\n",
       "      <td>84</td>\n",
       "      <td>Rwanda</td>\n",
       "      <td>35.055619</td>\n",
       "    </tr>\n",
       "    <tr>\n",
       "      <th>7</th>\n",
       "      <td>66</td>\n",
       "      <td>Mozambique</td>\n",
       "      <td>32.810898</td>\n",
       "    </tr>\n",
       "    <tr>\n",
       "      <th>8</th>\n",
       "      <td>96</td>\n",
       "      <td>Timor-Leste</td>\n",
       "      <td>32.173531</td>\n",
       "    </tr>\n",
       "    <tr>\n",
       "      <th>9</th>\n",
       "      <td>0</td>\n",
       "      <td>Afghanistan</td>\n",
       "      <td>28.928718</td>\n",
       "    </tr>\n",
       "  </tbody>\n",
       "</table>\n",
       "</div>"
      ],
      "text/plain": [
       "   index                                        Zone  proportion\n",
       "0     41                                       Haïti   48.259182\n",
       "1     82  République populaire démocratique de Corée   47.188685\n",
       "2     57                                  Madagascar   41.062924\n",
       "3     55                                     Libéria   38.279742\n",
       "4     53                                     Lesotho   38.249438\n",
       "5     94                                       Tchad   37.957606\n",
       "6     84                                      Rwanda   35.055619\n",
       "7     66                                  Mozambique   32.810898\n",
       "8     96                                 Timor-Leste   32.173531\n",
       "9      0                                 Afghanistan   28.928718"
      ]
     },
     "execution_count": 384,
     "metadata": {},
     "output_type": "execute_result"
    }
   ],
   "source": [
    "Top_sous_alim_pays = df_1[['Zone', \"proportion\"]].sort_values(by=\"proportion\", ascending=False).head(10)\n",
    "Top_sous_alim_pays.reset_index(inplace=True)\n",
    "Top_sous_alim_pays.sort_values(by=\"proportion\", ascending=False)"
   ]
  },
  {
   "cell_type": "code",
   "execution_count": 385,
   "id": "6e9c2f33",
   "metadata": {
    "scrolled": true
   },
   "outputs": [
    {
     "data": {
      "image/png": "[encoded data removed]",
      "text/plain": [
       "<Figure size 432x288 with 1 Axes>"
      ]
     },
     "metadata": {
      "needs_background": "light"
     },
     "output_type": "display_data"
    }
   ],
   "source": [
    "import matplotlib.pyplot as plt\n",
    "\n",
    "plt.barh(Top_sous_alim_pays[\"Zone\"],Top_sous_alim_pays[\"proportion\"],color= ['green','blue','purple','brown','teal','black','yellow','orange','grey','pink'])\n",
    "plt.title('Les pays où la proportion de personnes sous-alimentées est la plus forte en 2017')\n",
    "plt.xlabel('Zone')\n",
    "plt.ylabel('Proportion')\n",
    "plt.grid(True)\n",
    "plt.show()"
   ]
  },
  {
   "cell_type": "markdown",
   "id": "d95cf9a9",
   "metadata": {},
   "source": [
    "# Pays qui ont le plus bénéficié d’aide depuis 2013"
   ]
  },
  {
   "cell_type": "code",
   "execution_count": 376,
   "id": "a35cb633",
   "metadata": {},
   "outputs": [
    {
     "data": {
      "text/html": [
       "<div>\n",
       "<style scoped>\n",
       "    .dataframe tbody tr th:only-of-type {\n",
       "        vertical-align: middle;\n",
       "    }\n",
       "\n",
       "    .dataframe tbody tr th {\n",
       "        vertical-align: top;\n",
       "    }\n",
       "\n",
       "    .dataframe thead th {\n",
       "        text-align: right;\n",
       "    }\n",
       "</style>\n",
       "<table border=\"1\" class=\"dataframe\">\n",
       "  <thead>\n",
       "    <tr style=\"text-align: right;\">\n",
       "      <th></th>\n",
       "      <th>Zone</th>\n",
       "      <th>Valeur</th>\n",
       "    </tr>\n",
       "  </thead>\n",
       "  <tbody>\n",
       "    <tr>\n",
       "      <th>0</th>\n",
       "      <td>Afghanistan</td>\n",
       "      <td>185452</td>\n",
       "    </tr>\n",
       "    <tr>\n",
       "      <th>1</th>\n",
       "      <td>Algérie</td>\n",
       "      <td>81114</td>\n",
       "    </tr>\n",
       "    <tr>\n",
       "      <th>2</th>\n",
       "      <td>Angola</td>\n",
       "      <td>5014</td>\n",
       "    </tr>\n",
       "    <tr>\n",
       "      <th>3</th>\n",
       "      <td>Bangladesh</td>\n",
       "      <td>348188</td>\n",
       "    </tr>\n",
       "    <tr>\n",
       "      <th>4</th>\n",
       "      <td>Bhoutan</td>\n",
       "      <td>2666</td>\n",
       "    </tr>\n",
       "    <tr>\n",
       "      <th>...</th>\n",
       "      <td>...</td>\n",
       "      <td>...</td>\n",
       "    </tr>\n",
       "    <tr>\n",
       "      <th>71</th>\n",
       "      <td>Zambie</td>\n",
       "      <td>3026</td>\n",
       "    </tr>\n",
       "    <tr>\n",
       "      <th>72</th>\n",
       "      <td>Zimbabwe</td>\n",
       "      <td>62570</td>\n",
       "    </tr>\n",
       "    <tr>\n",
       "      <th>73</th>\n",
       "      <td>Égypte</td>\n",
       "      <td>1122</td>\n",
       "    </tr>\n",
       "    <tr>\n",
       "      <th>74</th>\n",
       "      <td>Équateur</td>\n",
       "      <td>1362</td>\n",
       "    </tr>\n",
       "    <tr>\n",
       "      <th>75</th>\n",
       "      <td>Éthiopie</td>\n",
       "      <td>1381294</td>\n",
       "    </tr>\n",
       "  </tbody>\n",
       "</table>\n",
       "<p>76 rows × 2 columns</p>\n",
       "</div>"
      ],
      "text/plain": [
       "           Zone   Valeur\n",
       "0   Afghanistan   185452\n",
       "1       Algérie    81114\n",
       "2        Angola     5014\n",
       "3    Bangladesh   348188\n",
       "4       Bhoutan     2666\n",
       "..          ...      ...\n",
       "71       Zambie     3026\n",
       "72     Zimbabwe    62570\n",
       "73       Égypte     1122\n",
       "74     Équateur     1362\n",
       "75     Éthiopie  1381294\n",
       "\n",
       "[76 rows x 2 columns]"
      ]
     },
     "execution_count": 376,
     "metadata": {},
     "output_type": "execute_result"
    }
   ],
   "source": [
    "# DF Aide alimentaire par pays depyuis 2013\n",
    "df_aide_alimentaire = aide_alim.groupby(\"Pays bénéficiaire\").agg({\"Valeur\":\"sum\"})\n",
    "df_aide_alimentaire.reset_index(inplace=True)\n",
    "df_aide_alimentaire= df_aide_alimentaire.rename(columns={\"Pays bénéficiaire\":\"Zone\"})\n",
    "df_aide_alimentaire"
   ]
  },
  {
   "cell_type": "code",
   "execution_count": 377,
   "id": "83f4f12c",
   "metadata": {},
   "outputs": [
    {
     "data": {
      "text/html": [
       "<div>\n",
       "<style scoped>\n",
       "    .dataframe tbody tr th:only-of-type {\n",
       "        vertical-align: middle;\n",
       "    }\n",
       "\n",
       "    .dataframe tbody tr th {\n",
       "        vertical-align: top;\n",
       "    }\n",
       "\n",
       "    .dataframe thead th {\n",
       "        text-align: right;\n",
       "    }\n",
       "</style>\n",
       "<table border=\"1\" class=\"dataframe\">\n",
       "  <thead>\n",
       "    <tr style=\"text-align: right;\">\n",
       "      <th></th>\n",
       "      <th>Zone</th>\n",
       "      <th>Valeur</th>\n",
       "    </tr>\n",
       "  </thead>\n",
       "  <tbody>\n",
       "    <tr>\n",
       "      <th>50</th>\n",
       "      <td>République arabe syrienne</td>\n",
       "      <td>1858943</td>\n",
       "    </tr>\n",
       "    <tr>\n",
       "      <th>75</th>\n",
       "      <td>Éthiopie</td>\n",
       "      <td>1381294</td>\n",
       "    </tr>\n",
       "    <tr>\n",
       "      <th>70</th>\n",
       "      <td>Yémen</td>\n",
       "      <td>1206484</td>\n",
       "    </tr>\n",
       "    <tr>\n",
       "      <th>61</th>\n",
       "      <td>Soudan du Sud</td>\n",
       "      <td>695248</td>\n",
       "    </tr>\n",
       "    <tr>\n",
       "      <th>60</th>\n",
       "      <td>Soudan</td>\n",
       "      <td>669784</td>\n",
       "    </tr>\n",
       "    <tr>\n",
       "      <th>30</th>\n",
       "      <td>Kenya</td>\n",
       "      <td>552836</td>\n",
       "    </tr>\n",
       "    <tr>\n",
       "      <th>3</th>\n",
       "      <td>Bangladesh</td>\n",
       "      <td>348188</td>\n",
       "    </tr>\n",
       "    <tr>\n",
       "      <th>59</th>\n",
       "      <td>Somalie</td>\n",
       "      <td>292678</td>\n",
       "    </tr>\n",
       "    <tr>\n",
       "      <th>53</th>\n",
       "      <td>République démocratique du Congo</td>\n",
       "      <td>288502</td>\n",
       "    </tr>\n",
       "    <tr>\n",
       "      <th>43</th>\n",
       "      <td>Niger</td>\n",
       "      <td>276344</td>\n",
       "    </tr>\n",
       "  </tbody>\n",
       "</table>\n",
       "</div>"
      ],
      "text/plain": [
       "                                Zone   Valeur\n",
       "50         République arabe syrienne  1858943\n",
       "75                          Éthiopie  1381294\n",
       "70                             Yémen  1206484\n",
       "61                     Soudan du Sud   695248\n",
       "60                            Soudan   669784\n",
       "30                             Kenya   552836\n",
       "3                         Bangladesh   348188\n",
       "59                           Somalie   292678\n",
       "53  République démocratique du Congo   288502\n",
       "43                             Niger   276344"
      ]
     },
     "execution_count": 377,
     "metadata": {},
     "output_type": "execute_result"
    }
   ],
   "source": [
    "Aide_2013 = (df_aide_alimentaire.sort_values(by=[\"Valeur\"], ascending=False)).head(10)\n",
    "Aide_2013"
   ]
  },
  {
   "cell_type": "markdown",
   "id": "30c2f87c",
   "metadata": {},
   "source": [
    "**On remarque que les pays qui ont le plus eu d'aide en 2013 sont ceux qui sont pauvre et qui ont surtout eu la guerre.**"
   ]
  },
  {
   "cell_type": "code",
   "execution_count": 386,
   "id": "306e03c6",
   "metadata": {},
   "outputs": [
    {
     "data": {
      "image/png": "[encoded data removed]",
      "text/plain": [
       "<Figure size 432x288 with 1 Axes>"
      ]
     },
     "metadata": {
      "needs_background": "light"
     },
     "output_type": "display_data"
    }
   ],
   "source": [
    "import matplotlib.pyplot as plt\n",
    "\n",
    "plt.barh(Aide_2013[\"Zone\"],Aide_2013[\"Valeur\"],color=\n",
    "         ['green','blue','purple','brown','teal','black','yellow','orange','grey','pink'])\n",
    "plt.title('Aide depuis 2013')\n",
    "plt.xlabel('Aide recu en tonnes')\n",
    "plt.ylabel('Zone')\n",
    "plt.grid(True)\n",
    "plt.show()"
   ]
  },
  {
   "cell_type": "markdown",
   "id": "65ab5b7e",
   "metadata": {},
   "source": [
    "# Pays ayant le plus/le moins de disponibilité/habitant"
   ]
  },
  {
   "cell_type": "code",
   "execution_count": 379,
   "id": "8fa4f724",
   "metadata": {},
   "outputs": [],
   "source": [
    "#Calcul de la proportion de dispo int par pays\n",
    "#sum de dispo alim  _ groupby zone / sort values / head (10)\n",
    "#lien[\"proportion_dispo_quant\"] = (lien[\"Disponibilité alimentaire en quantité (kg/personne/an)\"]/lien[\"disponibilité interieure totale\"])*100"
   ]
  },
  {
   "cell_type": "code",
   "execution_count": 380,
   "id": "14162b42",
   "metadata": {},
   "outputs": [],
   "source": [
    "dispo_par_habKg = dispo_alim[[\"Zone\", \"Disponibilité alimentaire en quantité (kg/personne/an)\"]].groupby([\"Zone\"]).sum()\n",
    "dispo_par_habKg = dispo_par_habKg.sort_values(\"Disponibilité alimentaire en quantité (kg/personne/an)\",ascending=False)"
   ]
  },
  {
   "cell_type": "code",
   "execution_count": 381,
   "id": "eda75645",
   "metadata": {},
   "outputs": [
    {
     "data": {
      "text/html": [
       "<div>\n",
       "<style scoped>\n",
       "    .dataframe tbody tr th:only-of-type {\n",
       "        vertical-align: middle;\n",
       "    }\n",
       "\n",
       "    .dataframe tbody tr th {\n",
       "        vertical-align: top;\n",
       "    }\n",
       "\n",
       "    .dataframe thead th {\n",
       "        text-align: right;\n",
       "    }\n",
       "</style>\n",
       "<table border=\"1\" class=\"dataframe\">\n",
       "  <thead>\n",
       "    <tr style=\"text-align: right;\">\n",
       "      <th></th>\n",
       "      <th>Zone</th>\n",
       "      <th>Disponibilité alimentaire en quantité (kg/personne/an)</th>\n",
       "    </tr>\n",
       "  </thead>\n",
       "  <tbody>\n",
       "    <tr>\n",
       "      <th>0</th>\n",
       "      <td>Monténégro</td>\n",
       "      <td>1210.41</td>\n",
       "    </tr>\n",
       "    <tr>\n",
       "      <th>1</th>\n",
       "      <td>Luxembourg</td>\n",
       "      <td>1150.66</td>\n",
       "    </tr>\n",
       "    <tr>\n",
       "      <th>2</th>\n",
       "      <td>Irlande</td>\n",
       "      <td>1150.15</td>\n",
       "    </tr>\n",
       "    <tr>\n",
       "      <th>3</th>\n",
       "      <td>Albanie</td>\n",
       "      <td>1095.54</td>\n",
       "    </tr>\n",
       "    <tr>\n",
       "      <th>4</th>\n",
       "      <td>Finlande</td>\n",
       "      <td>1093.77</td>\n",
       "    </tr>\n",
       "    <tr>\n",
       "      <th>5</th>\n",
       "      <td>Grèce</td>\n",
       "      <td>1070.90</td>\n",
       "    </tr>\n",
       "    <tr>\n",
       "      <th>6</th>\n",
       "      <td>Pays-Bas</td>\n",
       "      <td>1069.22</td>\n",
       "    </tr>\n",
       "    <tr>\n",
       "      <th>7</th>\n",
       "      <td>Autriche</td>\n",
       "      <td>1069.20</td>\n",
       "    </tr>\n",
       "    <tr>\n",
       "      <th>8</th>\n",
       "      <td>Lituanie</td>\n",
       "      <td>1050.07</td>\n",
       "    </tr>\n",
       "    <tr>\n",
       "      <th>9</th>\n",
       "      <td>Danemark</td>\n",
       "      <td>1031.04</td>\n",
       "    </tr>\n",
       "  </tbody>\n",
       "</table>\n",
       "</div>"
      ],
      "text/plain": [
       "         Zone  Disponibilité alimentaire en quantité (kg/personne/an)\n",
       "0  Monténégro                                            1210.41     \n",
       "1  Luxembourg                                            1150.66     \n",
       "2     Irlande                                            1150.15     \n",
       "3     Albanie                                            1095.54     \n",
       "4    Finlande                                            1093.77     \n",
       "5       Grèce                                            1070.90     \n",
       "6    Pays-Bas                                            1069.22     \n",
       "7    Autriche                                            1069.20     \n",
       "8    Lituanie                                            1050.07     \n",
       "9    Danemark                                            1031.04     "
      ]
     },
     "execution_count": 381,
     "metadata": {},
     "output_type": "execute_result"
    }
   ],
   "source": [
    "   # Pays ayant le plus de disponibilité par habitant\n",
    "TOP10 = dispo_par_habKg.head(10)\n",
    "TOP10.reset_index(inplace=True)\n",
    "TOP10"
   ]
  },
  {
   "cell_type": "code",
   "execution_count": 382,
   "id": "2ddf944d",
   "metadata": {},
   "outputs": [
    {
     "data": {
      "text/html": [
       "<div>\n",
       "<style scoped>\n",
       "    .dataframe tbody tr th:only-of-type {\n",
       "        vertical-align: middle;\n",
       "    }\n",
       "\n",
       "    .dataframe tbody tr th {\n",
       "        vertical-align: top;\n",
       "    }\n",
       "\n",
       "    .dataframe thead th {\n",
       "        text-align: right;\n",
       "    }\n",
       "</style>\n",
       "<table border=\"1\" class=\"dataframe\">\n",
       "  <thead>\n",
       "    <tr style=\"text-align: right;\">\n",
       "      <th></th>\n",
       "      <th>Disponibilité alimentaire en quantité (kg/personne/an)</th>\n",
       "    </tr>\n",
       "    <tr>\n",
       "      <th>Zone</th>\n",
       "      <th></th>\n",
       "    </tr>\n",
       "  </thead>\n",
       "  <tbody>\n",
       "    <tr>\n",
       "      <th>Sénégal</th>\n",
       "      <td>376.72</td>\n",
       "    </tr>\n",
       "    <tr>\n",
       "      <th>Yémen</th>\n",
       "      <td>375.41</td>\n",
       "    </tr>\n",
       "    <tr>\n",
       "      <th>Timor-Leste</th>\n",
       "      <td>369.10</td>\n",
       "    </tr>\n",
       "    <tr>\n",
       "      <th>Bangladesh</th>\n",
       "      <td>364.54</td>\n",
       "    </tr>\n",
       "    <tr>\n",
       "      <th>Guinée-Bissau</th>\n",
       "      <td>358.48</td>\n",
       "    </tr>\n",
       "    <tr>\n",
       "      <th>Éthiopie</th>\n",
       "      <td>354.55</td>\n",
       "    </tr>\n",
       "    <tr>\n",
       "      <th>Afghanistan</th>\n",
       "      <td>351.41</td>\n",
       "    </tr>\n",
       "    <tr>\n",
       "      <th>Zambie</th>\n",
       "      <td>350.12</td>\n",
       "    </tr>\n",
       "    <tr>\n",
       "      <th>Zimbabwe</th>\n",
       "      <td>336.59</td>\n",
       "    </tr>\n",
       "    <tr>\n",
       "      <th>Tchad</th>\n",
       "      <td>319.45</td>\n",
       "    </tr>\n",
       "  </tbody>\n",
       "</table>\n",
       "</div>"
      ],
      "text/plain": [
       "               Disponibilité alimentaire en quantité (kg/personne/an)\n",
       "Zone                                                                 \n",
       "Sénégal                                                   376.72     \n",
       "Yémen                                                     375.41     \n",
       "Timor-Leste                                               369.10     \n",
       "Bangladesh                                                364.54     \n",
       "Guinée-Bissau                                             358.48     \n",
       "Éthiopie                                                  354.55     \n",
       "Afghanistan                                               351.41     \n",
       "Zambie                                                    350.12     \n",
       "Zimbabwe                                                  336.59     \n",
       "Tchad                                                     319.45     "
      ]
     },
     "execution_count": 382,
     "metadata": {},
     "output_type": "execute_result"
    }
   ],
   "source": [
    " # Pays ayant le moins de disponibilité par habitant\n",
    "BUTTOM10 = dispo_par_habKg.tail(10)\n",
    "BUTTOM10 "
   ]
  },
  {
   "cell_type": "code",
   "execution_count": 383,
   "id": "94a9ea8b",
   "metadata": {},
   "outputs": [
    {
     "data": {
      "image/png": "[encoded data removed]",
      "text/plain": [
       "<Figure size 1080x504 with 1 Axes>"
      ]
     },
     "metadata": {},
     "output_type": "display_data"
    }
   ],
   "source": [
    "import matplotlib.pyplot as plt\n",
    "\n",
    "label = \"PROPORTION MONDIALE ENTRE PRODUCTION ET NOURRITURE EN 2017\"\n",
    "labels = 'Production',  'Pertes', 'Nourriture'\n",
    "sizes = [dispo_alim[el].sum() for el in labels]\n",
    "explode = (0, 0,0) \n",
    "\n",
    "fig1, ax1 = plt.subplots()\n",
    "ax1.pie(sizes, explode=explode, labels=labels, autopct='%1.2f%%',\n",
    "        shadow=True, startangle=50)\n",
    "ax1.axis('equal')  # Traitement des ratio pour obtenir un cercle.\n",
    "\n",
    "plt.title(label , fontdict=None, loc=None, pad=None, y=None,fontweight=\"bold\")\n",
    "fig1.set_size_inches(15, 7)\n",
    "fig1.savefig(\"./proportions_production_nourriture.png\")\n",
    "plt.show()"
   ]
  },
  {
   "cell_type": "code",
   "execution_count": null,
   "id": "5b4ae64c",
   "metadata": {},
   "outputs": [],
   "source": []
  }
 ],
 "metadata": {
  "kernelspec": {
   "display_name": "Python 3 (ipykernel)",
   "language": "python",
   "name": "python3"
  },
  "language_info": {
   "codemirror_mode": {
    "name": "ipython",
    "version": 3
   },
   "file_extension": ".py",
   "mimetype": "text/x-python",
   "name": "python",
   "nbconvert_exporter": "python",
   "pygments_lexer": "ipython3",
   "version": "3.9.7"
  }
 },
 "nbformat": 4,
 "nbformat_minor": 5
}
